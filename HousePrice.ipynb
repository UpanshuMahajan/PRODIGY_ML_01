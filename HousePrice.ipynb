{
 "cells": [
  {
   "cell_type": "markdown",
   "id": "781b980d-8f80-4199-9226-743ce7b59712",
   "metadata": {},
   "source": [
    "## HOUSE PRICE PREDICTION\n",
    "\n",
    "In this section, we focus on preparing the dataset for training a linear regression model to predict house prices based on their square footage, the number of bedrooms, and the number of bathrooms. Given the detailed dataset description, we will cut down the dataset to include only the necessary columns relevant to our problem statement.\n",
    "\n",
    "### Problem Statement\n",
    "We aim to implement a linear regression model to predict the prices of houses based on the following features:\n",
    "- **GrLivArea**: Above grade (ground) living area square feet.\n",
    "- **BedroomAbvGr**: Bedrooms above grade (does NOT include basement bedrooms).\n",
    "- **FullBath**: Full bathrooms above grade.\n",
    "\n",
    "Additionally, the target variable for our training dataset is:\n",
    "- **SalePrice**: The sale price of the house."
   ]
  },
  {
   "cell_type": "code",
   "execution_count": 1,
   "id": "e7ecbbac-914a-4ace-98ae-3b2ae29466b5",
   "metadata": {
    "tags": []
   },
   "outputs": [],
   "source": [
    "# Supress Warnings\n",
    "import warnings\n",
    "warnings.filterwarnings('ignore')"
   ]
  },
  {
   "cell_type": "code",
   "execution_count": 2,
   "id": "98b1ee4d-b9f7-49a4-9b5a-1f3ad8c3949a",
   "metadata": {},
   "outputs": [],
   "source": [
    "# Loading all the important libraries\n",
    "import pandas as pd\n",
    "import numpy as np\n",
    "import matplotlib.pyplot as plt\n",
    "import seaborn as sns\n",
    "from sklearn.preprocessing import MinMaxScaler\n",
    "from sklearn.linear_model import LinearRegression\n",
    "from sklearn.metrics import mean_absolute_error, mean_squared_error, r2_score\n",
    "from sklearn.model_selection import train_test_split\n",
    "import statsmodels.api as sm\n"
   ]
  },
  {
   "cell_type": "markdown",
   "id": "c9dec9bd-dee4-4e2f-876b-f2b1c88d02f7",
   "metadata": {},
   "source": [
    "### Reading and Understanding the Data"
   ]
  },
  {
   "cell_type": "code",
   "execution_count": 3,
   "id": "febfccb2-e71c-431a-8598-d3cf144edb65",
   "metadata": {
    "tags": []
   },
   "outputs": [],
   "source": [
    "# Loading the dataset\n",
    "train_df = pd.read_csv('train.csv')\n",
    "test_df = pd.read_csv('test.csv')"
   ]
  },
  {
   "cell_type": "code",
   "execution_count": 4,
   "id": "04a9a511-9420-4a0d-9e5b-5a9491e7f14f",
   "metadata": {},
   "outputs": [
    {
     "data": {
      "text/html": [
       "<div>\n",
       "<style scoped>\n",
       "    .dataframe tbody tr th:only-of-type {\n",
       "        vertical-align: middle;\n",
       "    }\n",
       "\n",
       "    .dataframe tbody tr th {\n",
       "        vertical-align: top;\n",
       "    }\n",
       "\n",
       "    .dataframe thead th {\n",
       "        text-align: right;\n",
       "    }\n",
       "</style>\n",
       "<table border=\"1\" class=\"dataframe\">\n",
       "  <thead>\n",
       "    <tr style=\"text-align: right;\">\n",
       "      <th></th>\n",
       "      <th>Id</th>\n",
       "      <th>MSSubClass</th>\n",
       "      <th>MSZoning</th>\n",
       "      <th>LotFrontage</th>\n",
       "      <th>LotArea</th>\n",
       "      <th>Street</th>\n",
       "      <th>Alley</th>\n",
       "      <th>LotShape</th>\n",
       "      <th>LandContour</th>\n",
       "      <th>Utilities</th>\n",
       "      <th>...</th>\n",
       "      <th>PoolArea</th>\n",
       "      <th>PoolQC</th>\n",
       "      <th>Fence</th>\n",
       "      <th>MiscFeature</th>\n",
       "      <th>MiscVal</th>\n",
       "      <th>MoSold</th>\n",
       "      <th>YrSold</th>\n",
       "      <th>SaleType</th>\n",
       "      <th>SaleCondition</th>\n",
       "      <th>SalePrice</th>\n",
       "    </tr>\n",
       "  </thead>\n",
       "  <tbody>\n",
       "    <tr>\n",
       "      <th>0</th>\n",
       "      <td>1</td>\n",
       "      <td>60</td>\n",
       "      <td>RL</td>\n",
       "      <td>65.0</td>\n",
       "      <td>8450</td>\n",
       "      <td>Pave</td>\n",
       "      <td>NaN</td>\n",
       "      <td>Reg</td>\n",
       "      <td>Lvl</td>\n",
       "      <td>AllPub</td>\n",
       "      <td>...</td>\n",
       "      <td>0</td>\n",
       "      <td>NaN</td>\n",
       "      <td>NaN</td>\n",
       "      <td>NaN</td>\n",
       "      <td>0</td>\n",
       "      <td>2</td>\n",
       "      <td>2008</td>\n",
       "      <td>WD</td>\n",
       "      <td>Normal</td>\n",
       "      <td>208500</td>\n",
       "    </tr>\n",
       "    <tr>\n",
       "      <th>1</th>\n",
       "      <td>2</td>\n",
       "      <td>20</td>\n",
       "      <td>RL</td>\n",
       "      <td>80.0</td>\n",
       "      <td>9600</td>\n",
       "      <td>Pave</td>\n",
       "      <td>NaN</td>\n",
       "      <td>Reg</td>\n",
       "      <td>Lvl</td>\n",
       "      <td>AllPub</td>\n",
       "      <td>...</td>\n",
       "      <td>0</td>\n",
       "      <td>NaN</td>\n",
       "      <td>NaN</td>\n",
       "      <td>NaN</td>\n",
       "      <td>0</td>\n",
       "      <td>5</td>\n",
       "      <td>2007</td>\n",
       "      <td>WD</td>\n",
       "      <td>Normal</td>\n",
       "      <td>181500</td>\n",
       "    </tr>\n",
       "    <tr>\n",
       "      <th>2</th>\n",
       "      <td>3</td>\n",
       "      <td>60</td>\n",
       "      <td>RL</td>\n",
       "      <td>68.0</td>\n",
       "      <td>11250</td>\n",
       "      <td>Pave</td>\n",
       "      <td>NaN</td>\n",
       "      <td>IR1</td>\n",
       "      <td>Lvl</td>\n",
       "      <td>AllPub</td>\n",
       "      <td>...</td>\n",
       "      <td>0</td>\n",
       "      <td>NaN</td>\n",
       "      <td>NaN</td>\n",
       "      <td>NaN</td>\n",
       "      <td>0</td>\n",
       "      <td>9</td>\n",
       "      <td>2008</td>\n",
       "      <td>WD</td>\n",
       "      <td>Normal</td>\n",
       "      <td>223500</td>\n",
       "    </tr>\n",
       "    <tr>\n",
       "      <th>3</th>\n",
       "      <td>4</td>\n",
       "      <td>70</td>\n",
       "      <td>RL</td>\n",
       "      <td>60.0</td>\n",
       "      <td>9550</td>\n",
       "      <td>Pave</td>\n",
       "      <td>NaN</td>\n",
       "      <td>IR1</td>\n",
       "      <td>Lvl</td>\n",
       "      <td>AllPub</td>\n",
       "      <td>...</td>\n",
       "      <td>0</td>\n",
       "      <td>NaN</td>\n",
       "      <td>NaN</td>\n",
       "      <td>NaN</td>\n",
       "      <td>0</td>\n",
       "      <td>2</td>\n",
       "      <td>2006</td>\n",
       "      <td>WD</td>\n",
       "      <td>Abnorml</td>\n",
       "      <td>140000</td>\n",
       "    </tr>\n",
       "    <tr>\n",
       "      <th>4</th>\n",
       "      <td>5</td>\n",
       "      <td>60</td>\n",
       "      <td>RL</td>\n",
       "      <td>84.0</td>\n",
       "      <td>14260</td>\n",
       "      <td>Pave</td>\n",
       "      <td>NaN</td>\n",
       "      <td>IR1</td>\n",
       "      <td>Lvl</td>\n",
       "      <td>AllPub</td>\n",
       "      <td>...</td>\n",
       "      <td>0</td>\n",
       "      <td>NaN</td>\n",
       "      <td>NaN</td>\n",
       "      <td>NaN</td>\n",
       "      <td>0</td>\n",
       "      <td>12</td>\n",
       "      <td>2008</td>\n",
       "      <td>WD</td>\n",
       "      <td>Normal</td>\n",
       "      <td>250000</td>\n",
       "    </tr>\n",
       "  </tbody>\n",
       "</table>\n",
       "<p>5 rows × 81 columns</p>\n",
       "</div>"
      ],
      "text/plain": [
       "   Id  MSSubClass MSZoning  LotFrontage  LotArea Street Alley LotShape  \\\n",
       "0   1          60       RL         65.0     8450   Pave   NaN      Reg   \n",
       "1   2          20       RL         80.0     9600   Pave   NaN      Reg   \n",
       "2   3          60       RL         68.0    11250   Pave   NaN      IR1   \n",
       "3   4          70       RL         60.0     9550   Pave   NaN      IR1   \n",
       "4   5          60       RL         84.0    14260   Pave   NaN      IR1   \n",
       "\n",
       "  LandContour Utilities  ... PoolArea PoolQC Fence MiscFeature MiscVal MoSold  \\\n",
       "0         Lvl    AllPub  ...        0    NaN   NaN         NaN       0      2   \n",
       "1         Lvl    AllPub  ...        0    NaN   NaN         NaN       0      5   \n",
       "2         Lvl    AllPub  ...        0    NaN   NaN         NaN       0      9   \n",
       "3         Lvl    AllPub  ...        0    NaN   NaN         NaN       0      2   \n",
       "4         Lvl    AllPub  ...        0    NaN   NaN         NaN       0     12   \n",
       "\n",
       "  YrSold  SaleType  SaleCondition  SalePrice  \n",
       "0   2008        WD         Normal     208500  \n",
       "1   2007        WD         Normal     181500  \n",
       "2   2008        WD         Normal     223500  \n",
       "3   2006        WD        Abnorml     140000  \n",
       "4   2008        WD         Normal     250000  \n",
       "\n",
       "[5 rows x 81 columns]"
      ]
     },
     "execution_count": 4,
     "metadata": {},
     "output_type": "execute_result"
    }
   ],
   "source": [
    "train_df.head()"
   ]
  },
  {
   "cell_type": "code",
   "execution_count": 5,
   "id": "6f9eb111-bf6a-467a-b484-60f4d20b042f",
   "metadata": {
    "tags": []
   },
   "outputs": [
    {
     "data": {
      "text/html": [
       "<div>\n",
       "<style scoped>\n",
       "    .dataframe tbody tr th:only-of-type {\n",
       "        vertical-align: middle;\n",
       "    }\n",
       "\n",
       "    .dataframe tbody tr th {\n",
       "        vertical-align: top;\n",
       "    }\n",
       "\n",
       "    .dataframe thead th {\n",
       "        text-align: right;\n",
       "    }\n",
       "</style>\n",
       "<table border=\"1\" class=\"dataframe\">\n",
       "  <thead>\n",
       "    <tr style=\"text-align: right;\">\n",
       "      <th></th>\n",
       "      <th>Id</th>\n",
       "      <th>MSSubClass</th>\n",
       "      <th>MSZoning</th>\n",
       "      <th>LotFrontage</th>\n",
       "      <th>LotArea</th>\n",
       "      <th>Street</th>\n",
       "      <th>Alley</th>\n",
       "      <th>LotShape</th>\n",
       "      <th>LandContour</th>\n",
       "      <th>Utilities</th>\n",
       "      <th>...</th>\n",
       "      <th>ScreenPorch</th>\n",
       "      <th>PoolArea</th>\n",
       "      <th>PoolQC</th>\n",
       "      <th>Fence</th>\n",
       "      <th>MiscFeature</th>\n",
       "      <th>MiscVal</th>\n",
       "      <th>MoSold</th>\n",
       "      <th>YrSold</th>\n",
       "      <th>SaleType</th>\n",
       "      <th>SaleCondition</th>\n",
       "    </tr>\n",
       "  </thead>\n",
       "  <tbody>\n",
       "    <tr>\n",
       "      <th>0</th>\n",
       "      <td>1461</td>\n",
       "      <td>20</td>\n",
       "      <td>RH</td>\n",
       "      <td>80.0</td>\n",
       "      <td>11622</td>\n",
       "      <td>Pave</td>\n",
       "      <td>NaN</td>\n",
       "      <td>Reg</td>\n",
       "      <td>Lvl</td>\n",
       "      <td>AllPub</td>\n",
       "      <td>...</td>\n",
       "      <td>120</td>\n",
       "      <td>0</td>\n",
       "      <td>NaN</td>\n",
       "      <td>MnPrv</td>\n",
       "      <td>NaN</td>\n",
       "      <td>0</td>\n",
       "      <td>6</td>\n",
       "      <td>2010</td>\n",
       "      <td>WD</td>\n",
       "      <td>Normal</td>\n",
       "    </tr>\n",
       "    <tr>\n",
       "      <th>1</th>\n",
       "      <td>1462</td>\n",
       "      <td>20</td>\n",
       "      <td>RL</td>\n",
       "      <td>81.0</td>\n",
       "      <td>14267</td>\n",
       "      <td>Pave</td>\n",
       "      <td>NaN</td>\n",
       "      <td>IR1</td>\n",
       "      <td>Lvl</td>\n",
       "      <td>AllPub</td>\n",
       "      <td>...</td>\n",
       "      <td>0</td>\n",
       "      <td>0</td>\n",
       "      <td>NaN</td>\n",
       "      <td>NaN</td>\n",
       "      <td>Gar2</td>\n",
       "      <td>12500</td>\n",
       "      <td>6</td>\n",
       "      <td>2010</td>\n",
       "      <td>WD</td>\n",
       "      <td>Normal</td>\n",
       "    </tr>\n",
       "    <tr>\n",
       "      <th>2</th>\n",
       "      <td>1463</td>\n",
       "      <td>60</td>\n",
       "      <td>RL</td>\n",
       "      <td>74.0</td>\n",
       "      <td>13830</td>\n",
       "      <td>Pave</td>\n",
       "      <td>NaN</td>\n",
       "      <td>IR1</td>\n",
       "      <td>Lvl</td>\n",
       "      <td>AllPub</td>\n",
       "      <td>...</td>\n",
       "      <td>0</td>\n",
       "      <td>0</td>\n",
       "      <td>NaN</td>\n",
       "      <td>MnPrv</td>\n",
       "      <td>NaN</td>\n",
       "      <td>0</td>\n",
       "      <td>3</td>\n",
       "      <td>2010</td>\n",
       "      <td>WD</td>\n",
       "      <td>Normal</td>\n",
       "    </tr>\n",
       "    <tr>\n",
       "      <th>3</th>\n",
       "      <td>1464</td>\n",
       "      <td>60</td>\n",
       "      <td>RL</td>\n",
       "      <td>78.0</td>\n",
       "      <td>9978</td>\n",
       "      <td>Pave</td>\n",
       "      <td>NaN</td>\n",
       "      <td>IR1</td>\n",
       "      <td>Lvl</td>\n",
       "      <td>AllPub</td>\n",
       "      <td>...</td>\n",
       "      <td>0</td>\n",
       "      <td>0</td>\n",
       "      <td>NaN</td>\n",
       "      <td>NaN</td>\n",
       "      <td>NaN</td>\n",
       "      <td>0</td>\n",
       "      <td>6</td>\n",
       "      <td>2010</td>\n",
       "      <td>WD</td>\n",
       "      <td>Normal</td>\n",
       "    </tr>\n",
       "    <tr>\n",
       "      <th>4</th>\n",
       "      <td>1465</td>\n",
       "      <td>120</td>\n",
       "      <td>RL</td>\n",
       "      <td>43.0</td>\n",
       "      <td>5005</td>\n",
       "      <td>Pave</td>\n",
       "      <td>NaN</td>\n",
       "      <td>IR1</td>\n",
       "      <td>HLS</td>\n",
       "      <td>AllPub</td>\n",
       "      <td>...</td>\n",
       "      <td>144</td>\n",
       "      <td>0</td>\n",
       "      <td>NaN</td>\n",
       "      <td>NaN</td>\n",
       "      <td>NaN</td>\n",
       "      <td>0</td>\n",
       "      <td>1</td>\n",
       "      <td>2010</td>\n",
       "      <td>WD</td>\n",
       "      <td>Normal</td>\n",
       "    </tr>\n",
       "  </tbody>\n",
       "</table>\n",
       "<p>5 rows × 80 columns</p>\n",
       "</div>"
      ],
      "text/plain": [
       "     Id  MSSubClass MSZoning  LotFrontage  LotArea Street Alley LotShape  \\\n",
       "0  1461          20       RH         80.0    11622   Pave   NaN      Reg   \n",
       "1  1462          20       RL         81.0    14267   Pave   NaN      IR1   \n",
       "2  1463          60       RL         74.0    13830   Pave   NaN      IR1   \n",
       "3  1464          60       RL         78.0     9978   Pave   NaN      IR1   \n",
       "4  1465         120       RL         43.0     5005   Pave   NaN      IR1   \n",
       "\n",
       "  LandContour Utilities  ... ScreenPorch PoolArea PoolQC  Fence MiscFeature  \\\n",
       "0         Lvl    AllPub  ...         120        0    NaN  MnPrv         NaN   \n",
       "1         Lvl    AllPub  ...           0        0    NaN    NaN        Gar2   \n",
       "2         Lvl    AllPub  ...           0        0    NaN  MnPrv         NaN   \n",
       "3         Lvl    AllPub  ...           0        0    NaN    NaN         NaN   \n",
       "4         HLS    AllPub  ...         144        0    NaN    NaN         NaN   \n",
       "\n",
       "  MiscVal MoSold  YrSold  SaleType  SaleCondition  \n",
       "0       0      6    2010        WD         Normal  \n",
       "1   12500      6    2010        WD         Normal  \n",
       "2       0      3    2010        WD         Normal  \n",
       "3       0      6    2010        WD         Normal  \n",
       "4       0      1    2010        WD         Normal  \n",
       "\n",
       "[5 rows x 80 columns]"
      ]
     },
     "execution_count": 5,
     "metadata": {},
     "output_type": "execute_result"
    }
   ],
   "source": [
    "test_df.head()"
   ]
  },
  {
   "cell_type": "code",
   "execution_count": 6,
   "id": "7f7c7857-1381-4e65-a8d4-6153a2d91ed4",
   "metadata": {},
   "outputs": [
    {
     "name": "stdout",
     "output_type": "stream",
     "text": [
      "(1460, 81)\n",
      "(1459, 80)\n"
     ]
    }
   ],
   "source": [
    "print(train_df.shape)\n",
    "print(test_df.shape)"
   ]
  },
  {
   "cell_type": "code",
   "execution_count": 7,
   "id": "d0119f0f-829e-49e4-b7b4-c0042a897265",
   "metadata": {},
   "outputs": [],
   "source": [
    "# Columns required based on the problem statement\n",
    "required_columns = ['GrLivArea', 'BedroomAbvGr', 'FullBath', 'SalePrice']"
   ]
  },
  {
   "cell_type": "code",
   "execution_count": 8,
   "id": "4ef5d83c-6665-4f91-89bd-c5d51b69f2b7",
   "metadata": {},
   "outputs": [],
   "source": [
    "# Ensure all required columns are present in the training dataset\n",
    "assert all(column in train_df.columns for column in required_columns), \"Some required columns are missing in the training dataset\"\n",
    "\n",
    "# For the test dataset, we check for the same columns except 'SalePrice' because we typically do not have the target variable in the test dataset\n",
    "assert all(column in test_df.columns for column in required_columns[:-1]), \"Some required columns are missing in the test dataset\""
   ]
  },
  {
   "cell_type": "code",
   "execution_count": 9,
   "id": "57f910de-77cb-4902-9aef-b4536782a941",
   "metadata": {},
   "outputs": [],
   "source": [
    "# Select the required columns in the training dataset\n",
    "Train_df = train_df[required_columns]\n",
    "\n",
    "# Select the required feature columns in the test dataset (excluding 'SalePrice')\n",
    "Test_df = test_df[required_columns[:-1]]"
   ]
  },
  {
   "cell_type": "code",
   "execution_count": 10,
   "id": "f18fbb78-f3e9-4eff-a45a-945ef075f05c",
   "metadata": {},
   "outputs": [
    {
     "data": {
      "text/html": [
       "<div>\n",
       "<style scoped>\n",
       "    .dataframe tbody tr th:only-of-type {\n",
       "        vertical-align: middle;\n",
       "    }\n",
       "\n",
       "    .dataframe tbody tr th {\n",
       "        vertical-align: top;\n",
       "    }\n",
       "\n",
       "    .dataframe thead th {\n",
       "        text-align: right;\n",
       "    }\n",
       "</style>\n",
       "<table border=\"1\" class=\"dataframe\">\n",
       "  <thead>\n",
       "    <tr style=\"text-align: right;\">\n",
       "      <th></th>\n",
       "      <th>GrLivArea</th>\n",
       "      <th>BedroomAbvGr</th>\n",
       "      <th>FullBath</th>\n",
       "      <th>SalePrice</th>\n",
       "    </tr>\n",
       "  </thead>\n",
       "  <tbody>\n",
       "    <tr>\n",
       "      <th>0</th>\n",
       "      <td>1710</td>\n",
       "      <td>3</td>\n",
       "      <td>2</td>\n",
       "      <td>208500</td>\n",
       "    </tr>\n",
       "    <tr>\n",
       "      <th>1</th>\n",
       "      <td>1262</td>\n",
       "      <td>3</td>\n",
       "      <td>2</td>\n",
       "      <td>181500</td>\n",
       "    </tr>\n",
       "    <tr>\n",
       "      <th>2</th>\n",
       "      <td>1786</td>\n",
       "      <td>3</td>\n",
       "      <td>2</td>\n",
       "      <td>223500</td>\n",
       "    </tr>\n",
       "    <tr>\n",
       "      <th>3</th>\n",
       "      <td>1717</td>\n",
       "      <td>3</td>\n",
       "      <td>1</td>\n",
       "      <td>140000</td>\n",
       "    </tr>\n",
       "    <tr>\n",
       "      <th>4</th>\n",
       "      <td>2198</td>\n",
       "      <td>4</td>\n",
       "      <td>2</td>\n",
       "      <td>250000</td>\n",
       "    </tr>\n",
       "  </tbody>\n",
       "</table>\n",
       "</div>"
      ],
      "text/plain": [
       "   GrLivArea  BedroomAbvGr  FullBath  SalePrice\n",
       "0       1710             3         2     208500\n",
       "1       1262             3         2     181500\n",
       "2       1786             3         2     223500\n",
       "3       1717             3         1     140000\n",
       "4       2198             4         2     250000"
      ]
     },
     "execution_count": 10,
     "metadata": {},
     "output_type": "execute_result"
    }
   ],
   "source": [
    "Train_df.head()"
   ]
  },
  {
   "cell_type": "code",
   "execution_count": 11,
   "id": "ffecf8c1-9ac3-4aed-99c3-e2a41563d609",
   "metadata": {},
   "outputs": [
    {
     "data": {
      "text/html": [
       "<div>\n",
       "<style scoped>\n",
       "    .dataframe tbody tr th:only-of-type {\n",
       "        vertical-align: middle;\n",
       "    }\n",
       "\n",
       "    .dataframe tbody tr th {\n",
       "        vertical-align: top;\n",
       "    }\n",
       "\n",
       "    .dataframe thead th {\n",
       "        text-align: right;\n",
       "    }\n",
       "</style>\n",
       "<table border=\"1\" class=\"dataframe\">\n",
       "  <thead>\n",
       "    <tr style=\"text-align: right;\">\n",
       "      <th></th>\n",
       "      <th>GrLivArea</th>\n",
       "      <th>BedroomAbvGr</th>\n",
       "      <th>FullBath</th>\n",
       "    </tr>\n",
       "  </thead>\n",
       "  <tbody>\n",
       "    <tr>\n",
       "      <th>0</th>\n",
       "      <td>896</td>\n",
       "      <td>2</td>\n",
       "      <td>1</td>\n",
       "    </tr>\n",
       "    <tr>\n",
       "      <th>1</th>\n",
       "      <td>1329</td>\n",
       "      <td>3</td>\n",
       "      <td>1</td>\n",
       "    </tr>\n",
       "    <tr>\n",
       "      <th>2</th>\n",
       "      <td>1629</td>\n",
       "      <td>3</td>\n",
       "      <td>2</td>\n",
       "    </tr>\n",
       "    <tr>\n",
       "      <th>3</th>\n",
       "      <td>1604</td>\n",
       "      <td>3</td>\n",
       "      <td>2</td>\n",
       "    </tr>\n",
       "    <tr>\n",
       "      <th>4</th>\n",
       "      <td>1280</td>\n",
       "      <td>2</td>\n",
       "      <td>2</td>\n",
       "    </tr>\n",
       "  </tbody>\n",
       "</table>\n",
       "</div>"
      ],
      "text/plain": [
       "   GrLivArea  BedroomAbvGr  FullBath\n",
       "0        896             2         1\n",
       "1       1329             3         1\n",
       "2       1629             3         2\n",
       "3       1604             3         2\n",
       "4       1280             2         2"
      ]
     },
     "execution_count": 11,
     "metadata": {},
     "output_type": "execute_result"
    }
   ],
   "source": [
    "Test_df.head()"
   ]
  },
  {
   "cell_type": "code",
   "execution_count": 12,
   "id": "91cf4c0c-4cc2-4973-bb13-8ffe53c44621",
   "metadata": {
    "tags": []
   },
   "outputs": [
    {
     "name": "stdout",
     "output_type": "stream",
     "text": [
      "<class 'pandas.core.frame.DataFrame'>\n",
      "RangeIndex: 1460 entries, 0 to 1459\n",
      "Data columns (total 4 columns):\n",
      " #   Column        Non-Null Count  Dtype\n",
      "---  ------        --------------  -----\n",
      " 0   GrLivArea     1460 non-null   int64\n",
      " 1   BedroomAbvGr  1460 non-null   int64\n",
      " 2   FullBath      1460 non-null   int64\n",
      " 3   SalePrice     1460 non-null   int64\n",
      "dtypes: int64(4)\n",
      "memory usage: 45.8 KB\n",
      "None\n",
      "<class 'pandas.core.frame.DataFrame'>\n",
      "RangeIndex: 1459 entries, 0 to 1458\n",
      "Data columns (total 3 columns):\n",
      " #   Column        Non-Null Count  Dtype\n",
      "---  ------        --------------  -----\n",
      " 0   GrLivArea     1459 non-null   int64\n",
      " 1   BedroomAbvGr  1459 non-null   int64\n",
      " 2   FullBath      1459 non-null   int64\n",
      "dtypes: int64(3)\n",
      "memory usage: 34.3 KB\n",
      "None\n"
     ]
    }
   ],
   "source": [
    "print(Train_df.info())\n",
    "print(Test_df.info())"
   ]
  },
  {
   "cell_type": "markdown",
   "id": "95f61314-ec25-4ba5-b92d-bddc71815986",
   "metadata": {},
   "source": [
    "### Cleaning the Data "
   ]
  },
  {
   "cell_type": "code",
   "execution_count": 13,
   "id": "56f634ab-8d74-48aa-ad82-8ef592ae22b0",
   "metadata": {},
   "outputs": [
    {
     "name": "stdout",
     "output_type": "stream",
     "text": [
      "TRAIN DATASET\n",
      "GrLivArea       0\n",
      "BedroomAbvGr    0\n",
      "FullBath        0\n",
      "SalePrice       0\n",
      "dtype: int64\n",
      "TEST DATASET\n",
      "GrLivArea       0\n",
      "BedroomAbvGr    0\n",
      "FullBath        0\n",
      "dtype: int64\n"
     ]
    }
   ],
   "source": [
    "# Check for missing values\n",
    "print(\"TRAIN DATASET\")\n",
    "print(Train_df.isnull().sum())\n",
    "\n",
    "print(\"TEST DATASET\")\n",
    "print(Test_df.isnull().sum())"
   ]
  },
  {
   "cell_type": "code",
   "execution_count": 14,
   "id": "02b29e06-833a-4766-8070-cc968bf8fcc2",
   "metadata": {},
   "outputs": [
    {
     "name": "stdout",
     "output_type": "stream",
     "text": [
      "<class 'pandas.core.frame.DataFrame'>\n",
      "RangeIndex: 1460 entries, 0 to 1459\n",
      "Data columns (total 4 columns):\n",
      " #   Column        Non-Null Count  Dtype\n",
      "---  ------        --------------  -----\n",
      " 0   GrLivArea     1460 non-null   int64\n",
      " 1   BedroomAbvGr  1460 non-null   int64\n",
      " 2   FullBath      1460 non-null   int64\n",
      " 3   SalePrice     1460 non-null   int64\n",
      "dtypes: int64(4)\n",
      "memory usage: 45.8 KB\n"
     ]
    }
   ],
   "source": [
    "Train_df.info()"
   ]
  },
  {
   "cell_type": "code",
   "execution_count": 15,
   "id": "11001352-2bc2-4dc2-90b6-c7c2e4f06f62",
   "metadata": {},
   "outputs": [
    {
     "data": {
      "text/html": [
       "<div>\n",
       "<style scoped>\n",
       "    .dataframe tbody tr th:only-of-type {\n",
       "        vertical-align: middle;\n",
       "    }\n",
       "\n",
       "    .dataframe tbody tr th {\n",
       "        vertical-align: top;\n",
       "    }\n",
       "\n",
       "    .dataframe thead th {\n",
       "        text-align: right;\n",
       "    }\n",
       "</style>\n",
       "<table border=\"1\" class=\"dataframe\">\n",
       "  <thead>\n",
       "    <tr style=\"text-align: right;\">\n",
       "      <th></th>\n",
       "      <th>GrLivArea</th>\n",
       "      <th>BedroomAbvGr</th>\n",
       "      <th>FullBath</th>\n",
       "      <th>SalePrice</th>\n",
       "    </tr>\n",
       "  </thead>\n",
       "  <tbody>\n",
       "    <tr>\n",
       "      <th>count</th>\n",
       "      <td>1460.000000</td>\n",
       "      <td>1460.000000</td>\n",
       "      <td>1460.000000</td>\n",
       "      <td>1460.000000</td>\n",
       "    </tr>\n",
       "    <tr>\n",
       "      <th>mean</th>\n",
       "      <td>1515.463699</td>\n",
       "      <td>2.866438</td>\n",
       "      <td>1.565068</td>\n",
       "      <td>180921.195890</td>\n",
       "    </tr>\n",
       "    <tr>\n",
       "      <th>std</th>\n",
       "      <td>525.480383</td>\n",
       "      <td>0.815778</td>\n",
       "      <td>0.550916</td>\n",
       "      <td>79442.502883</td>\n",
       "    </tr>\n",
       "    <tr>\n",
       "      <th>min</th>\n",
       "      <td>334.000000</td>\n",
       "      <td>0.000000</td>\n",
       "      <td>0.000000</td>\n",
       "      <td>34900.000000</td>\n",
       "    </tr>\n",
       "    <tr>\n",
       "      <th>25%</th>\n",
       "      <td>1129.500000</td>\n",
       "      <td>2.000000</td>\n",
       "      <td>1.000000</td>\n",
       "      <td>129975.000000</td>\n",
       "    </tr>\n",
       "    <tr>\n",
       "      <th>50%</th>\n",
       "      <td>1464.000000</td>\n",
       "      <td>3.000000</td>\n",
       "      <td>2.000000</td>\n",
       "      <td>163000.000000</td>\n",
       "    </tr>\n",
       "    <tr>\n",
       "      <th>75%</th>\n",
       "      <td>1776.750000</td>\n",
       "      <td>3.000000</td>\n",
       "      <td>2.000000</td>\n",
       "      <td>214000.000000</td>\n",
       "    </tr>\n",
       "    <tr>\n",
       "      <th>max</th>\n",
       "      <td>5642.000000</td>\n",
       "      <td>8.000000</td>\n",
       "      <td>3.000000</td>\n",
       "      <td>755000.000000</td>\n",
       "    </tr>\n",
       "  </tbody>\n",
       "</table>\n",
       "</div>"
      ],
      "text/plain": [
       "         GrLivArea  BedroomAbvGr     FullBath      SalePrice\n",
       "count  1460.000000   1460.000000  1460.000000    1460.000000\n",
       "mean   1515.463699      2.866438     1.565068  180921.195890\n",
       "std     525.480383      0.815778     0.550916   79442.502883\n",
       "min     334.000000      0.000000     0.000000   34900.000000\n",
       "25%    1129.500000      2.000000     1.000000  129975.000000\n",
       "50%    1464.000000      3.000000     2.000000  163000.000000\n",
       "75%    1776.750000      3.000000     2.000000  214000.000000\n",
       "max    5642.000000      8.000000     3.000000  755000.000000"
      ]
     },
     "execution_count": 15,
     "metadata": {},
     "output_type": "execute_result"
    }
   ],
   "source": [
    "Train_df.describe()"
   ]
  },
  {
   "cell_type": "markdown",
   "id": "66e50c0a-e8d2-4a6e-95d8-e271dd194a3f",
   "metadata": {},
   "source": [
    "### Visualizing the Data"
   ]
  },
  {
   "cell_type": "code",
   "execution_count": 16,
   "id": "91bf5748-e814-401f-85f3-8570ad4b8dd5",
   "metadata": {},
   "outputs": [
    {
     "data": {
      "image/png": "[encoded data removed]",
      "text/plain": [
       "<Figure size 720x576 with 2 Axes>"
      ]
     },
     "metadata": {
      "needs_background": "light"
     },
     "output_type": "display_data"
    }
   ],
   "source": [
    "# Correlation heatmap\n",
    "plt.figure(figsize=(10, 8))\n",
    "correlation_matrix = Train_df.corr()\n",
    "sns.heatmap(correlation_matrix, annot=True, fmt='.2f', cmap='coolwarm')\n",
    "plt.title('Correlation Matrix')\n",
    "plt.show()"
   ]
  },
  {
   "cell_type": "markdown",
   "id": "4570f5dc-c7a7-4e1d-850b-263a952cef9a",
   "metadata": {},
   "source": [
    "According to the Heatmap we can conclude that `GrLivArea` is most correlated with `SalePrice`"
   ]
  },
  {
   "cell_type": "code",
   "execution_count": 17,
   "id": "bfffc06e-dc1f-4b29-b357-65d155985129",
   "metadata": {},
   "outputs": [
    {
     "data": {
      "image/png": "[encoded data removed]",
      "text/plain": [
       "<Figure size 720x432 with 1 Axes>"
      ]
     },
     "metadata": {
      "needs_background": "light"
     },
     "output_type": "display_data"
    }
   ],
   "source": [
    "# Distribution of SalePrice\n",
    "plt.figure(figsize=(10, 6))\n",
    "sns.histplot(Train_df['SalePrice'], kde=True)\n",
    "plt.title('Distribution of SalePrice')\n",
    "plt.xlabel('SalePrice')\n",
    "plt.ylabel('Frequency')\n",
    "plt.show()"
   ]
  },
  {
   "cell_type": "markdown",
   "id": "e78d9e52-4a10-4f57-b68e-24ca5b7e42cd",
   "metadata": {},
   "source": [
    "\n",
    "The histogram shows that the SalePrice of houses is right-skewed, with most prices between 100,000 and 300,000. The tallest bars indicate a peak around 150,000. The KDE curve highlights the overall distribution shape, confirming a positive skew with a long tail extending towards higher prices."
   ]
  },
  {
   "cell_type": "code",
   "execution_count": 18,
   "id": "da6bce55-e488-4c84-9010-a6451de3227e",
   "metadata": {},
   "outputs": [
    {
     "data": {
      "image/png": "[encoded data removed]",
      "text/plain": [
       "<Figure size 720x720 with 20 Axes>"
      ]
     },
     "metadata": {
      "needs_background": "light"
     },
     "output_type": "display_data"
    }
   ],
   "source": [
    "# Pair plots for numerical features\n",
    "sns.pairplot(Train_df[required_columns])\n",
    "plt.show()"
   ]
  },
  {
   "cell_type": "markdown",
   "id": "ea103eef-ec63-4a7c-88fc-4fd51b6f7605",
   "metadata": {},
   "source": [
    "The pair plot displays relationships between GrLivArea, BedroomAbvGr, FullBath, and SalePrice. Key observations include:\n",
    "\n",
    "- GrLivArea and SalePrice show a positive correlation, indicating larger living areas tend to have higher sale prices.\n",
    "- BedroomAbvGr and FullBath show no clear correlation with SalePrice.\n",
    "- The distribution of each feature is shown along the diagonal, with GrLivArea and SalePrice both being right-skewed.\n"
   ]
  },
  {
   "cell_type": "code",
   "execution_count": 19,
   "id": "3e2aa0ec-cd06-4789-993d-2ee7957314af",
   "metadata": {},
   "outputs": [
    {
     "data": {
      "text/html": [
       "<div>\n",
       "<style scoped>\n",
       "    .dataframe tbody tr th:only-of-type {\n",
       "        vertical-align: middle;\n",
       "    }\n",
       "\n",
       "    .dataframe tbody tr th {\n",
       "        vertical-align: top;\n",
       "    }\n",
       "\n",
       "    .dataframe thead th {\n",
       "        text-align: right;\n",
       "    }\n",
       "</style>\n",
       "<table border=\"1\" class=\"dataframe\">\n",
       "  <thead>\n",
       "    <tr style=\"text-align: right;\">\n",
       "      <th></th>\n",
       "      <th>GrLivArea</th>\n",
       "      <th>BedroomAbvGr</th>\n",
       "      <th>FullBath</th>\n",
       "      <th>SalePrice</th>\n",
       "    </tr>\n",
       "  </thead>\n",
       "  <tbody>\n",
       "    <tr>\n",
       "      <th>0</th>\n",
       "      <td>1710</td>\n",
       "      <td>3</td>\n",
       "      <td>2</td>\n",
       "      <td>208500</td>\n",
       "    </tr>\n",
       "    <tr>\n",
       "      <th>1</th>\n",
       "      <td>1262</td>\n",
       "      <td>3</td>\n",
       "      <td>2</td>\n",
       "      <td>181500</td>\n",
       "    </tr>\n",
       "    <tr>\n",
       "      <th>2</th>\n",
       "      <td>1786</td>\n",
       "      <td>3</td>\n",
       "      <td>2</td>\n",
       "      <td>223500</td>\n",
       "    </tr>\n",
       "    <tr>\n",
       "      <th>3</th>\n",
       "      <td>1717</td>\n",
       "      <td>3</td>\n",
       "      <td>1</td>\n",
       "      <td>140000</td>\n",
       "    </tr>\n",
       "    <tr>\n",
       "      <th>4</th>\n",
       "      <td>2198</td>\n",
       "      <td>4</td>\n",
       "      <td>2</td>\n",
       "      <td>250000</td>\n",
       "    </tr>\n",
       "  </tbody>\n",
       "</table>\n",
       "</div>"
      ],
      "text/plain": [
       "   GrLivArea  BedroomAbvGr  FullBath  SalePrice\n",
       "0       1710             3         2     208500\n",
       "1       1262             3         2     181500\n",
       "2       1786             3         2     223500\n",
       "3       1717             3         1     140000\n",
       "4       2198             4         2     250000"
      ]
     },
     "execution_count": 19,
     "metadata": {},
     "output_type": "execute_result"
    }
   ],
   "source": [
    "Train_df.head()"
   ]
  },
  {
   "cell_type": "code",
   "execution_count": 20,
   "id": "6c069e38-9515-446a-a451-a2ff142c05a9",
   "metadata": {},
   "outputs": [
    {
     "data": {
      "text/plain": [
       "3    804\n",
       "2    358\n",
       "4    213\n",
       "1     50\n",
       "5     21\n",
       "6      7\n",
       "0      6\n",
       "8      1\n",
       "Name: BedroomAbvGr, dtype: int64"
      ]
     },
     "execution_count": 20,
     "metadata": {},
     "output_type": "execute_result"
    }
   ],
   "source": [
    "Train_df['BedroomAbvGr'].value_counts()"
   ]
  },
  {
   "cell_type": "markdown",
   "id": "141bd222-a365-4697-91c9-30e57546290e",
   "metadata": {},
   "source": [
    "Since houses with number of bedrooms  **0** , **1** , **5** , **6** , **8** have negligible values so we will consider dropping these values."
   ]
  },
  {
   "cell_type": "code",
   "execution_count": 21,
   "id": "e44242d1-e2a3-47d7-91e9-df38006f7bf0",
   "metadata": {},
   "outputs": [
    {
     "data": {
      "image/png": "[encoded data removed]",
      "text/plain": [
       "<Figure size 720x432 with 1 Axes>"
      ]
     },
     "metadata": {
      "needs_background": "light"
     },
     "output_type": "display_data"
    },
    {
     "data": {
      "image/png": "[encoded data removed]",
      "text/plain": [
       "<Figure size 720x432 with 1 Axes>"
      ]
     },
     "metadata": {
      "needs_background": "light"
     },
     "output_type": "display_data"
    },
    {
     "data": {
      "image/png": "[encoded data removed]",
      "text/plain": [
       "<Figure size 720x432 with 1 Axes>"
      ]
     },
     "metadata": {
      "needs_background": "light"
     },
     "output_type": "display_data"
    }
   ],
   "source": [
    "# Assuming train_df is your DataFrame\n",
    "# Plot the distribution of BedroomAbvGr\n",
    "plt.figure(figsize=(10, 6))\n",
    "sns.countplot(x='BedroomAbvGr', data=train_df, palette='viridis')\n",
    "plt.title('Distribution of BedroomAbvGr')\n",
    "plt.xlabel('Number of Bedrooms Above Ground')\n",
    "plt.ylabel('Count')\n",
    "plt.show()\n",
    "\n",
    "# Box plot to visualize the relationship between BedroomAbvGr and SalePrice\n",
    "plt.figure(figsize=(10, 6))\n",
    "sns.boxplot(x='BedroomAbvGr', y='SalePrice', data=train_df, palette='viridis')\n",
    "plt.title('SalePrice vs. BedroomAbvGr')\n",
    "plt.xlabel('Number of Bedrooms Above Ground')\n",
    "plt.ylabel('SalePrice')\n",
    "plt.show()\n",
    "\n",
    "# Scatter plot to visualize the relationship between BedroomAbvGr and SalePrice\n",
    "plt.figure(figsize=(10, 6))\n",
    "sns.scatterplot(x='BedroomAbvGr', y='SalePrice', data=train_df, palette='viridis')\n",
    "plt.title('SalePrice vs. BedroomAbvGr')\n",
    "plt.xlabel('Number of Bedrooms Above Ground')\n",
    "plt.ylabel('SalePrice')\n",
    "plt.show()\n"
   ]
  },
  {
   "cell_type": "code",
   "execution_count": 22,
   "id": "887af7b7-befb-406a-b9f3-905c5e425735",
   "metadata": {},
   "outputs": [
    {
     "name": "stdout",
     "output_type": "stream",
     "text": [
      "3    804\n",
      "2    358\n",
      "4    213\n",
      "Name: BedroomAbvGr, dtype: int64\n"
     ]
    }
   ],
   "source": [
    "# List of values to drop\n",
    "values_to_drop = [0, 1, 5, 6, 8]\n",
    "\n",
    "# Drop rows where BedroomAbvGr is in the list of values to drop\n",
    "Train_df = Train_df[~Train_df['BedroomAbvGr'].isin(values_to_drop)]\n",
    "\n",
    "# Verify the changes by checking the value counts again\n",
    "print(Train_df['BedroomAbvGr'].value_counts())"
   ]
  },
  {
   "cell_type": "markdown",
   "id": "9ef91e78-af80-4159-9c2a-e85afa5faec9",
   "metadata": {},
   "source": [
    "Checking for Test Dataset also"
   ]
  },
  {
   "cell_type": "code",
   "execution_count": 23,
   "id": "7e71396d-043b-4430-8418-edb7f577eb5b",
   "metadata": {},
   "outputs": [
    {
     "data": {
      "text/plain": [
       "3    792\n",
       "2    384\n",
       "4    187\n",
       "1     53\n",
       "5     27\n",
       "6     14\n",
       "0      2\n",
       "Name: BedroomAbvGr, dtype: int64"
      ]
     },
     "execution_count": 23,
     "metadata": {},
     "output_type": "execute_result"
    }
   ],
   "source": [
    "Test_df['BedroomAbvGr'].value_counts()"
   ]
  },
  {
   "cell_type": "code",
   "execution_count": 24,
   "id": "cc4d949e-ddc0-4bdf-9d84-f45172ced506",
   "metadata": {},
   "outputs": [
    {
     "name": "stdout",
     "output_type": "stream",
     "text": [
      "3    792\n",
      "2    384\n",
      "4    187\n",
      "Name: BedroomAbvGr, dtype: int64\n"
     ]
    }
   ],
   "source": [
    "Test_df = Test_df[~Test_df['BedroomAbvGr'].isin(values_to_drop)]\n",
    "print(Test_df['BedroomAbvGr'].value_counts())"
   ]
  },
  {
   "cell_type": "markdown",
   "id": "f6497ad3-b604-4907-8926-be34a4164f7b",
   "metadata": {},
   "source": [
    "Creating Dummy Variable for the `BedroomAbvGr`"
   ]
  },
  {
   "cell_type": "code",
   "execution_count": 25,
   "id": "f1c8da5a-95cb-423c-8bee-b4a76cd8cbcc",
   "metadata": {},
   "outputs": [
    {
     "data": {
      "text/html": [
       "<div>\n",
       "<style scoped>\n",
       "    .dataframe tbody tr th:only-of-type {\n",
       "        vertical-align: middle;\n",
       "    }\n",
       "\n",
       "    .dataframe tbody tr th {\n",
       "        vertical-align: top;\n",
       "    }\n",
       "\n",
       "    .dataframe thead th {\n",
       "        text-align: right;\n",
       "    }\n",
       "</style>\n",
       "<table border=\"1\" class=\"dataframe\">\n",
       "  <thead>\n",
       "    <tr style=\"text-align: right;\">\n",
       "      <th></th>\n",
       "      <th>GrLivArea</th>\n",
       "      <th>FullBath</th>\n",
       "      <th>SalePrice</th>\n",
       "      <th>Bedroom_2</th>\n",
       "      <th>Bedroom_3</th>\n",
       "      <th>Bedroom_4</th>\n",
       "    </tr>\n",
       "  </thead>\n",
       "  <tbody>\n",
       "    <tr>\n",
       "      <th>0</th>\n",
       "      <td>1710</td>\n",
       "      <td>2</td>\n",
       "      <td>208500</td>\n",
       "      <td>0</td>\n",
       "      <td>1</td>\n",
       "      <td>0</td>\n",
       "    </tr>\n",
       "    <tr>\n",
       "      <th>1</th>\n",
       "      <td>1262</td>\n",
       "      <td>2</td>\n",
       "      <td>181500</td>\n",
       "      <td>0</td>\n",
       "      <td>1</td>\n",
       "      <td>0</td>\n",
       "    </tr>\n",
       "    <tr>\n",
       "      <th>2</th>\n",
       "      <td>1786</td>\n",
       "      <td>2</td>\n",
       "      <td>223500</td>\n",
       "      <td>0</td>\n",
       "      <td>1</td>\n",
       "      <td>0</td>\n",
       "    </tr>\n",
       "    <tr>\n",
       "      <th>3</th>\n",
       "      <td>1717</td>\n",
       "      <td>1</td>\n",
       "      <td>140000</td>\n",
       "      <td>0</td>\n",
       "      <td>1</td>\n",
       "      <td>0</td>\n",
       "    </tr>\n",
       "    <tr>\n",
       "      <th>4</th>\n",
       "      <td>2198</td>\n",
       "      <td>2</td>\n",
       "      <td>250000</td>\n",
       "      <td>0</td>\n",
       "      <td>0</td>\n",
       "      <td>1</td>\n",
       "    </tr>\n",
       "  </tbody>\n",
       "</table>\n",
       "</div>"
      ],
      "text/plain": [
       "   GrLivArea  FullBath  SalePrice  Bedroom_2  Bedroom_3  Bedroom_4\n",
       "0       1710         2     208500          0          1          0\n",
       "1       1262         2     181500          0          1          0\n",
       "2       1786         2     223500          0          1          0\n",
       "3       1717         1     140000          0          1          0\n",
       "4       2198         2     250000          0          0          1"
      ]
     },
     "execution_count": 25,
     "metadata": {},
     "output_type": "execute_result"
    }
   ],
   "source": [
    "bedroom_dummies = pd.get_dummies(Train_df['BedroomAbvGr'], prefix='Bedroom')\n",
    "\n",
    "# Dropping the original BedroomAbvGr column\n",
    "Train_df = Train_df.drop('BedroomAbvGr', axis=1)\n",
    "\n",
    "# Concatenate the dummy variables with the original DataFrame\n",
    "Train_df = pd.concat([Train_df, bedroom_dummies], axis=1)\n",
    "\n",
    "Train_df.head()"
   ]
  },
  {
   "cell_type": "code",
   "execution_count": 26,
   "id": "3887b08a-c409-4d8e-9b13-194dc76504d7",
   "metadata": {},
   "outputs": [
    {
     "data": {
      "text/html": [
       "<div>\n",
       "<style scoped>\n",
       "    .dataframe tbody tr th:only-of-type {\n",
       "        vertical-align: middle;\n",
       "    }\n",
       "\n",
       "    .dataframe tbody tr th {\n",
       "        vertical-align: top;\n",
       "    }\n",
       "\n",
       "    .dataframe thead th {\n",
       "        text-align: right;\n",
       "    }\n",
       "</style>\n",
       "<table border=\"1\" class=\"dataframe\">\n",
       "  <thead>\n",
       "    <tr style=\"text-align: right;\">\n",
       "      <th></th>\n",
       "      <th>GrLivArea</th>\n",
       "      <th>FullBath</th>\n",
       "      <th>Bedroom_2</th>\n",
       "      <th>Bedroom_3</th>\n",
       "      <th>Bedroom_4</th>\n",
       "    </tr>\n",
       "  </thead>\n",
       "  <tbody>\n",
       "    <tr>\n",
       "      <th>0</th>\n",
       "      <td>896</td>\n",
       "      <td>1</td>\n",
       "      <td>1</td>\n",
       "      <td>0</td>\n",
       "      <td>0</td>\n",
       "    </tr>\n",
       "    <tr>\n",
       "      <th>1</th>\n",
       "      <td>1329</td>\n",
       "      <td>1</td>\n",
       "      <td>0</td>\n",
       "      <td>1</td>\n",
       "      <td>0</td>\n",
       "    </tr>\n",
       "    <tr>\n",
       "      <th>2</th>\n",
       "      <td>1629</td>\n",
       "      <td>2</td>\n",
       "      <td>0</td>\n",
       "      <td>1</td>\n",
       "      <td>0</td>\n",
       "    </tr>\n",
       "    <tr>\n",
       "      <th>3</th>\n",
       "      <td>1604</td>\n",
       "      <td>2</td>\n",
       "      <td>0</td>\n",
       "      <td>1</td>\n",
       "      <td>0</td>\n",
       "    </tr>\n",
       "    <tr>\n",
       "      <th>4</th>\n",
       "      <td>1280</td>\n",
       "      <td>2</td>\n",
       "      <td>1</td>\n",
       "      <td>0</td>\n",
       "      <td>0</td>\n",
       "    </tr>\n",
       "  </tbody>\n",
       "</table>\n",
       "</div>"
      ],
      "text/plain": [
       "   GrLivArea  FullBath  Bedroom_2  Bedroom_3  Bedroom_4\n",
       "0        896         1          1          0          0\n",
       "1       1329         1          0          1          0\n",
       "2       1629         2          0          1          0\n",
       "3       1604         2          0          1          0\n",
       "4       1280         2          1          0          0"
      ]
     },
     "execution_count": 26,
     "metadata": {},
     "output_type": "execute_result"
    }
   ],
   "source": [
    "bedroom_dummies_test = pd.get_dummies(Test_df['BedroomAbvGr'], prefix='Bedroom')\n",
    "\n",
    "# Dropping the original BedroomAbvGr column in the test dataset\n",
    "Test_df = Test_df.drop('BedroomAbvGr', axis=1)\n",
    "\n",
    "# Ensure the dummy variable columns in the test dataset match those in the training dataset\n",
    "# Add any missing dummy variable columns to the test dataset with value 0\n",
    "for col in bedroom_dummies.columns:\n",
    "    if col not in bedroom_dummies_test.columns:\n",
    "        bedroom_dummies_test[col] = 0\n",
    "\n",
    "# Concatenate the dummy variables with the test DataFrame\n",
    "Test_df = pd.concat([Test_df, bedroom_dummies_test], axis=1)\n",
    "\n",
    "# Ensure the columns order match between train and test datasets\n",
    "Test_df = Test_df[Train_df.columns.drop('SalePrice')]\n",
    "\n",
    "Test_df.head()"
   ]
  },
  {
   "cell_type": "code",
   "execution_count": 27,
   "id": "633bc1f6-df14-4d2a-8b95-9e3e7f5960d6",
   "metadata": {},
   "outputs": [
    {
     "data": {
      "text/plain": [
       "2    742\n",
       "1    602\n",
       "3     29\n",
       "0      2\n",
       "Name: FullBath, dtype: int64"
      ]
     },
     "execution_count": 27,
     "metadata": {},
     "output_type": "execute_result"
    }
   ],
   "source": [
    "Train_df['FullBath'].value_counts()"
   ]
  },
  {
   "cell_type": "code",
   "execution_count": 28,
   "id": "2c2e7c20-639c-4558-97b6-83b9a34a695a",
   "metadata": {},
   "outputs": [
    {
     "data": {
      "text/plain": [
       "2    728\n",
       "1    611\n",
       "3     22\n",
       "4      1\n",
       "0      1\n",
       "Name: FullBath, dtype: int64"
      ]
     },
     "execution_count": 28,
     "metadata": {},
     "output_type": "execute_result"
    }
   ],
   "source": [
    "Test_df['FullBath'].value_counts()"
   ]
  },
  {
   "cell_type": "markdown",
   "id": "7c71f889-85f8-4041-b003-1720e133e8ec",
   "metadata": {},
   "source": [
    "Similarly with `FullBath` **0** & **4** (in test dataset) have almost negligible values so we may consider dropping them"
   ]
  },
  {
   "cell_type": "code",
   "execution_count": 29,
   "id": "6d119328-38dd-4746-9934-f3902688b494",
   "metadata": {},
   "outputs": [],
   "source": [
    "# Checking and droping negligible values in both train and test datasets for FullBath\n",
    "Train_df = Train_df[Train_df['FullBath'].isin([1, 2, 3])]  # Keep only values 1, 2, and 3\n",
    "Test_df = Test_df[Test_df['FullBath'].isin([1, 2, 3])]  # Keep only values 1, 2, and 3\n"
   ]
  },
  {
   "cell_type": "code",
   "execution_count": 30,
   "id": "2aff885c-529d-477c-a9ec-04297cf7b191",
   "metadata": {},
   "outputs": [
    {
     "data": {
      "text/html": [
       "<div>\n",
       "<style scoped>\n",
       "    .dataframe tbody tr th:only-of-type {\n",
       "        vertical-align: middle;\n",
       "    }\n",
       "\n",
       "    .dataframe tbody tr th {\n",
       "        vertical-align: top;\n",
       "    }\n",
       "\n",
       "    .dataframe thead th {\n",
       "        text-align: right;\n",
       "    }\n",
       "</style>\n",
       "<table border=\"1\" class=\"dataframe\">\n",
       "  <thead>\n",
       "    <tr style=\"text-align: right;\">\n",
       "      <th></th>\n",
       "      <th>GrLivArea</th>\n",
       "      <th>SalePrice</th>\n",
       "      <th>Bedroom_2</th>\n",
       "      <th>Bedroom_3</th>\n",
       "      <th>Bedroom_4</th>\n",
       "      <th>FullBath_1</th>\n",
       "      <th>FullBath_2</th>\n",
       "      <th>FullBath_3</th>\n",
       "    </tr>\n",
       "  </thead>\n",
       "  <tbody>\n",
       "    <tr>\n",
       "      <th>0</th>\n",
       "      <td>1710</td>\n",
       "      <td>208500</td>\n",
       "      <td>0</td>\n",
       "      <td>1</td>\n",
       "      <td>0</td>\n",
       "      <td>0</td>\n",
       "      <td>1</td>\n",
       "      <td>0</td>\n",
       "    </tr>\n",
       "    <tr>\n",
       "      <th>1</th>\n",
       "      <td>1262</td>\n",
       "      <td>181500</td>\n",
       "      <td>0</td>\n",
       "      <td>1</td>\n",
       "      <td>0</td>\n",
       "      <td>0</td>\n",
       "      <td>1</td>\n",
       "      <td>0</td>\n",
       "    </tr>\n",
       "    <tr>\n",
       "      <th>2</th>\n",
       "      <td>1786</td>\n",
       "      <td>223500</td>\n",
       "      <td>0</td>\n",
       "      <td>1</td>\n",
       "      <td>0</td>\n",
       "      <td>0</td>\n",
       "      <td>1</td>\n",
       "      <td>0</td>\n",
       "    </tr>\n",
       "    <tr>\n",
       "      <th>3</th>\n",
       "      <td>1717</td>\n",
       "      <td>140000</td>\n",
       "      <td>0</td>\n",
       "      <td>1</td>\n",
       "      <td>0</td>\n",
       "      <td>1</td>\n",
       "      <td>0</td>\n",
       "      <td>0</td>\n",
       "    </tr>\n",
       "    <tr>\n",
       "      <th>4</th>\n",
       "      <td>2198</td>\n",
       "      <td>250000</td>\n",
       "      <td>0</td>\n",
       "      <td>0</td>\n",
       "      <td>1</td>\n",
       "      <td>0</td>\n",
       "      <td>1</td>\n",
       "      <td>0</td>\n",
       "    </tr>\n",
       "  </tbody>\n",
       "</table>\n",
       "</div>"
      ],
      "text/plain": [
       "   GrLivArea  SalePrice  Bedroom_2  Bedroom_3  Bedroom_4  FullBath_1  \\\n",
       "0       1710     208500          0          1          0           0   \n",
       "1       1262     181500          0          1          0           0   \n",
       "2       1786     223500          0          1          0           0   \n",
       "3       1717     140000          0          1          0           1   \n",
       "4       2198     250000          0          0          1           0   \n",
       "\n",
       "   FullBath_2  FullBath_3  \n",
       "0           1           0  \n",
       "1           1           0  \n",
       "2           1           0  \n",
       "3           0           0  \n",
       "4           1           0  "
      ]
     },
     "execution_count": 30,
     "metadata": {},
     "output_type": "execute_result"
    }
   ],
   "source": [
    "fullbath_dummies = pd.get_dummies(Train_df['FullBath'], prefix='FullBath')\n",
    "Train_df = Train_df.drop('FullBath', axis=1)\n",
    "\n",
    "# Concatenate the dummy variables with the training DataFrame\n",
    "Train_df = pd.concat([Train_df, fullbath_dummies], axis=1)\n",
    "Train_df.head()"
   ]
  },
  {
   "cell_type": "code",
   "execution_count": 31,
   "id": "842c0973-96d0-43bc-bf7f-368ac3c38a82",
   "metadata": {},
   "outputs": [
    {
     "data": {
      "text/html": [
       "<div>\n",
       "<style scoped>\n",
       "    .dataframe tbody tr th:only-of-type {\n",
       "        vertical-align: middle;\n",
       "    }\n",
       "\n",
       "    .dataframe tbody tr th {\n",
       "        vertical-align: top;\n",
       "    }\n",
       "\n",
       "    .dataframe thead th {\n",
       "        text-align: right;\n",
       "    }\n",
       "</style>\n",
       "<table border=\"1\" class=\"dataframe\">\n",
       "  <thead>\n",
       "    <tr style=\"text-align: right;\">\n",
       "      <th></th>\n",
       "      <th>GrLivArea</th>\n",
       "      <th>Bedroom_2</th>\n",
       "      <th>Bedroom_3</th>\n",
       "      <th>Bedroom_4</th>\n",
       "      <th>FullBath_1</th>\n",
       "      <th>FullBath_2</th>\n",
       "      <th>FullBath_3</th>\n",
       "    </tr>\n",
       "  </thead>\n",
       "  <tbody>\n",
       "    <tr>\n",
       "      <th>0</th>\n",
       "      <td>896</td>\n",
       "      <td>1</td>\n",
       "      <td>0</td>\n",
       "      <td>0</td>\n",
       "      <td>1</td>\n",
       "      <td>0</td>\n",
       "      <td>0</td>\n",
       "    </tr>\n",
       "    <tr>\n",
       "      <th>1</th>\n",
       "      <td>1329</td>\n",
       "      <td>0</td>\n",
       "      <td>1</td>\n",
       "      <td>0</td>\n",
       "      <td>1</td>\n",
       "      <td>0</td>\n",
       "      <td>0</td>\n",
       "    </tr>\n",
       "    <tr>\n",
       "      <th>2</th>\n",
       "      <td>1629</td>\n",
       "      <td>0</td>\n",
       "      <td>1</td>\n",
       "      <td>0</td>\n",
       "      <td>0</td>\n",
       "      <td>1</td>\n",
       "      <td>0</td>\n",
       "    </tr>\n",
       "    <tr>\n",
       "      <th>3</th>\n",
       "      <td>1604</td>\n",
       "      <td>0</td>\n",
       "      <td>1</td>\n",
       "      <td>0</td>\n",
       "      <td>0</td>\n",
       "      <td>1</td>\n",
       "      <td>0</td>\n",
       "    </tr>\n",
       "    <tr>\n",
       "      <th>4</th>\n",
       "      <td>1280</td>\n",
       "      <td>1</td>\n",
       "      <td>0</td>\n",
       "      <td>0</td>\n",
       "      <td>0</td>\n",
       "      <td>1</td>\n",
       "      <td>0</td>\n",
       "    </tr>\n",
       "  </tbody>\n",
       "</table>\n",
       "</div>"
      ],
      "text/plain": [
       "   GrLivArea  Bedroom_2  Bedroom_3  Bedroom_4  FullBath_1  FullBath_2  \\\n",
       "0        896          1          0          0           1           0   \n",
       "1       1329          0          1          0           1           0   \n",
       "2       1629          0          1          0           0           1   \n",
       "3       1604          0          1          0           0           1   \n",
       "4       1280          1          0          0           0           1   \n",
       "\n",
       "   FullBath_3  \n",
       "0           0  \n",
       "1           0  \n",
       "2           0  \n",
       "3           0  \n",
       "4           0  "
      ]
     },
     "execution_count": 31,
     "metadata": {},
     "output_type": "execute_result"
    }
   ],
   "source": [
    "fullbath_dummies_test = pd.get_dummies(Test_df['FullBath'], prefix='FullBath')\n",
    "Test_df = Test_df.drop('FullBath', axis=1)\n",
    "\n",
    "# Ensure the dummy variable columns in the test dataset match those in the training dataset\n",
    "# Add any missing dummy variable columns to the test dataset with value 0\n",
    "for col in fullbath_dummies.columns:\n",
    "    if col not in fullbath_dummies_test.columns:\n",
    "        fullbath_dummies_test[col] = 0\n",
    "\n",
    "# Concatenate the dummy variables with the test DataFrame\n",
    "Test_df = pd.concat([Test_df, fullbath_dummies_test], axis=1)\n",
    "Test_df.head()"
   ]
  },
  {
   "cell_type": "code",
   "execution_count": 32,
   "id": "9c8cb220-670c-4efc-9570-ea491f79ad15",
   "metadata": {},
   "outputs": [
    {
     "data": {
      "image/png": "[encoded data removed]",
      "text/plain": [
       "<Figure size 1152x720 with 2 Axes>"
      ]
     },
     "metadata": {
      "needs_background": "light"
     },
     "output_type": "display_data"
    }
   ],
   "source": [
    "# Checking the correlation coefficients to see which variables are highly correlated\n",
    "\n",
    "plt.figure(figsize = (16, 10))\n",
    "sns.heatmap(Train_df.corr(), annot = True, cmap=\"YlGnBu\")\n",
    "plt.show()"
   ]
  },
  {
   "cell_type": "markdown",
   "id": "aef9d893-482d-4dec-a4b1-9e473d79c1e3",
   "metadata": {},
   "source": [
    "From the heatmap we can conlcude that `SalePrice` has most correlation with `GrLivArea`. Let's see a pairplot for `GrLivArea` vs `SalePrice`."
   ]
  },
  {
   "cell_type": "code",
   "execution_count": 33,
   "id": "67f57751-1436-42fc-ab62-a18a8dc1793c",
   "metadata": {},
   "outputs": [
    {
     "name": "stdout",
     "output_type": "stream",
     "text": [
      "count    1358.000000\n",
      "mean     1490.275405\n",
      "std       452.433089\n",
      "min       605.000000\n",
      "25%      1134.000000\n",
      "50%      1456.000000\n",
      "75%      1751.500000\n",
      "max      2945.000000\n",
      "Name: GrLivArea, dtype: float64\n"
     ]
    }
   ],
   "source": [
    "# Define the threshold for outliers (e.g., using mean and standard deviation)\n",
    "mean = Train_df['GrLivArea'].mean()\n",
    "std_dev = Train_df['GrLivArea'].std()\n",
    "upper_bound = mean + 3 * std_dev \n",
    "\n",
    "# Filter the dataset to remove outliers in GrLivArea\n",
    "Train_df = Train_df[Train_df['GrLivArea'] <= upper_bound]\n",
    "\n",
    "# Check the new distribution and summary statistics\n",
    "print(Train_df['GrLivArea'].describe())\n",
    "\n",
    "# Repeat the same for the test dataset \n",
    "Test_df = Test_df[Test_df['GrLivArea'] <= upper_bound]"
   ]
  },
  {
   "cell_type": "code",
   "execution_count": 34,
   "id": "b8b2a0c8-52b2-4331-b75c-7498ed24964d",
   "metadata": {},
   "outputs": [
    {
     "data": {
      "image/png": "[encoded data removed]",
      "text/plain": [
       "<Figure size 432x432 with 1 Axes>"
      ]
     },
     "metadata": {
      "needs_background": "light"
     },
     "output_type": "display_data"
    }
   ],
   "source": [
    "plt.figure(figsize=[6,6])\n",
    "plt.scatter(Train_df.GrLivArea, Train_df.SalePrice)\n",
    "plt.show()"
   ]
  },
  {
   "cell_type": "markdown",
   "id": "4a5abb69-2edd-452d-b80b-f4a8a3319dac",
   "metadata": {},
   "source": [
    "#### Splitting the Data into Training and Testing Sets"
   ]
  },
  {
   "cell_type": "code",
   "execution_count": 36,
   "id": "bb606984-06e5-4cce-bbc5-e2db3796f9ad",
   "metadata": {},
   "outputs": [],
   "source": [
    "# Feature scaling with MinMaxScaler\n",
    "scaler = MinMaxScaler()\n",
    "\n",
    "# Fit and transform GrLivArea in Train_df\n",
    "Train_df['GrLivArea'] = scaler.fit_transform(Train_df[['GrLivArea']])\n",
    "# Transform GrLivArea in Test_df using the scaler fitted on Train_df\n",
    "Test_df['GrLivArea'] = scaler.transform(Test_df[['GrLivArea']])"
   ]
  },
  {
   "cell_type": "code",
   "execution_count": 37,
   "id": "82ddc771-3205-419c-983f-71013d7af55a",
   "metadata": {},
   "outputs": [],
   "source": [
    "np.random.seed(0)\n",
    "df_train, df_test = train_test_split(Train_df, train_size = 0.7, test_size = 0.3, random_state = 100)"
   ]
  },
  {
   "cell_type": "code",
   "execution_count": 38,
   "id": "cdfde7bd-58c1-4d6c-ae53-6c2aafb7d0c8",
   "metadata": {},
   "outputs": [
    {
     "data": {
      "text/html": [
       "<div>\n",
       "<style scoped>\n",
       "    .dataframe tbody tr th:only-of-type {\n",
       "        vertical-align: middle;\n",
       "    }\n",
       "\n",
       "    .dataframe tbody tr th {\n",
       "        vertical-align: top;\n",
       "    }\n",
       "\n",
       "    .dataframe thead th {\n",
       "        text-align: right;\n",
       "    }\n",
       "</style>\n",
       "<table border=\"1\" class=\"dataframe\">\n",
       "  <thead>\n",
       "    <tr style=\"text-align: right;\">\n",
       "      <th></th>\n",
       "      <th>GrLivArea</th>\n",
       "      <th>SalePrice</th>\n",
       "      <th>Bedroom_2</th>\n",
       "      <th>Bedroom_3</th>\n",
       "      <th>Bedroom_4</th>\n",
       "      <th>FullBath_1</th>\n",
       "      <th>FullBath_2</th>\n",
       "      <th>FullBath_3</th>\n",
       "    </tr>\n",
       "  </thead>\n",
       "  <tbody>\n",
       "    <tr>\n",
       "      <th>30</th>\n",
       "      <td>0.304274</td>\n",
       "      <td>40000</td>\n",
       "      <td>0</td>\n",
       "      <td>1</td>\n",
       "      <td>0</td>\n",
       "      <td>1</td>\n",
       "      <td>0</td>\n",
       "      <td>0</td>\n",
       "    </tr>\n",
       "    <tr>\n",
       "      <th>349</th>\n",
       "      <td>0.907265</td>\n",
       "      <td>437154</td>\n",
       "      <td>0</td>\n",
       "      <td>0</td>\n",
       "      <td>1</td>\n",
       "      <td>0</td>\n",
       "      <td>1</td>\n",
       "      <td>0</td>\n",
       "    </tr>\n",
       "    <tr>\n",
       "      <th>873</th>\n",
       "      <td>0.283333</td>\n",
       "      <td>133000</td>\n",
       "      <td>0</td>\n",
       "      <td>1</td>\n",
       "      <td>0</td>\n",
       "      <td>1</td>\n",
       "      <td>0</td>\n",
       "      <td>0</td>\n",
       "    </tr>\n",
       "    <tr>\n",
       "      <th>950</th>\n",
       "      <td>0.110684</td>\n",
       "      <td>129000</td>\n",
       "      <td>0</td>\n",
       "      <td>1</td>\n",
       "      <td>0</td>\n",
       "      <td>1</td>\n",
       "      <td>0</td>\n",
       "      <td>0</td>\n",
       "    </tr>\n",
       "    <tr>\n",
       "      <th>1277</th>\n",
       "      <td>0.478205</td>\n",
       "      <td>197900</td>\n",
       "      <td>0</td>\n",
       "      <td>1</td>\n",
       "      <td>0</td>\n",
       "      <td>1</td>\n",
       "      <td>0</td>\n",
       "      <td>0</td>\n",
       "    </tr>\n",
       "  </tbody>\n",
       "</table>\n",
       "</div>"
      ],
      "text/plain": [
       "      GrLivArea  SalePrice  Bedroom_2  Bedroom_3  Bedroom_4  FullBath_1  \\\n",
       "30     0.304274      40000          0          1          0           1   \n",
       "349    0.907265     437154          0          0          1           0   \n",
       "873    0.283333     133000          0          1          0           1   \n",
       "950    0.110684     129000          0          1          0           1   \n",
       "1277   0.478205     197900          0          1          0           1   \n",
       "\n",
       "      FullBath_2  FullBath_3  \n",
       "30             0           0  \n",
       "349            1           0  \n",
       "873            0           0  \n",
       "950            0           0  \n",
       "1277           0           0  "
      ]
     },
     "execution_count": 38,
     "metadata": {},
     "output_type": "execute_result"
    }
   ],
   "source": [
    "df_train.head()"
   ]
  },
  {
   "cell_type": "markdown",
   "id": "909a2160-6687-4682-bc2d-614fc2e496d9",
   "metadata": {},
   "source": [
    "### Creating a Model"
   ]
  },
  {
   "cell_type": "code",
   "execution_count": 39,
   "id": "d1df6b0a-ec90-4db7-a837-64b441d993c7",
   "metadata": {},
   "outputs": [],
   "source": [
    "y_train = df_train.pop('SalePrice')\n",
    "X_train = df_train"
   ]
  },
  {
   "cell_type": "code",
   "execution_count": 40,
   "id": "8910d9a6-baf4-4cc2-9866-70733734598b",
   "metadata": {},
   "outputs": [],
   "source": [
    "import statsmodels.api as sm\n",
    "\n",
    "# Add a constant\n",
    "X_train_lm = sm.add_constant(X_train[['GrLivArea']])\n",
    "\n",
    "# Create a first fitted model\n",
    "lr = sm.OLS(y_train, X_train_lm).fit()"
   ]
  },
  {
   "cell_type": "code",
   "execution_count": 41,
   "id": "4b3ec062-96fc-40c9-bbe3-f0c7b1775fa5",
   "metadata": {},
   "outputs": [
    {
     "data": {
      "text/plain": [
       "const         75790.744208\n",
       "GrLivArea    268979.583653\n",
       "dtype: float64"
      ]
     },
     "execution_count": 41,
     "metadata": {},
     "output_type": "execute_result"
    }
   ],
   "source": [
    "# Check the parameters obtained\n",
    "\n",
    "lr.params"
   ]
  },
  {
   "cell_type": "code",
   "execution_count": 42,
   "id": "0f3ed5d3-df82-4dea-bc50-857b18dd9fea",
   "metadata": {},
   "outputs": [
    {
     "data": {
      "image/png": "[encoded data removed]",
      "text/plain": [
       "<Figure size 432x288 with 1 Axes>"
      ]
     },
     "metadata": {
      "needs_background": "light"
     },
     "output_type": "display_data"
    }
   ],
   "source": [
    "plt.scatter(X_train_lm.iloc[:, 1], y_train)\n",
    "plt.plot(X_train_lm.iloc[:, 1], lr.params[0] + lr.params[1] * X_train_lm.iloc[:, 1], 'r')  # plotting the regression line\n",
    "plt.xlabel('GrLivArea')\n",
    "plt.ylabel('SalePrice')\n",
    "plt.title('Linear Regression Fit')\n",
    "plt.show()"
   ]
  },
  {
   "cell_type": "code",
   "execution_count": 43,
   "id": "e66fb0d2-d3d1-457b-8f7f-a1d301350d60",
   "metadata": {},
   "outputs": [
    {
     "name": "stdout",
     "output_type": "stream",
     "text": [
      "                            OLS Regression Results                            \n",
      "==============================================================================\n",
      "Dep. Variable:              SalePrice   R-squared:                       0.523\n",
      "Model:                            OLS   Adj. R-squared:                  0.523\n",
      "Method:                 Least Squares   F-statistic:                     1041.\n",
      "Date:                Sat, 15 Jun 2024   Prob (F-statistic):          1.06e-154\n",
      "Time:                        15:54:39   Log-Likelihood:                -11601.\n",
      "No. Observations:                 950   AIC:                         2.321e+04\n",
      "Df Residuals:                     948   BIC:                         2.322e+04\n",
      "Df Model:                           1                                         \n",
      "Covariance Type:            nonrobust                                         \n",
      "==============================================================================\n",
      "                 coef    std err          t      P>|t|      [0.025      0.975]\n",
      "------------------------------------------------------------------------------\n",
      "const       7.579e+04   3487.991     21.729      0.000    6.89e+04    8.26e+04\n",
      "GrLivArea    2.69e+05   8337.311     32.262      0.000    2.53e+05    2.85e+05\n",
      "==============================================================================\n",
      "Omnibus:                      222.643   Durbin-Watson:                   2.019\n",
      "Prob(Omnibus):                  0.000   Jarque-Bera (JB):             1090.755\n",
      "Skew:                           0.990   Prob(JB):                    1.40e-237\n",
      "Kurtosis:                       7.861   Cond. No.                         6.03\n",
      "==============================================================================\n",
      "\n",
      "Notes:\n",
      "[1] Standard Errors assume that the covariance matrix of the errors is correctly specified.\n"
     ]
    }
   ],
   "source": [
    "# Print a summary of the linear regression model obtained\n",
    "print(lr.summary())"
   ]
  },
  {
   "cell_type": "code",
   "execution_count": 44,
   "id": "ce7edce5-c142-4507-a56e-ebbd26895ffb",
   "metadata": {},
   "outputs": [],
   "source": [
    "# Assign all the feature variables to X\n",
    "X_train_lm = X_train[['GrLivArea', 'FullBath_1','FullBath_2']]"
   ]
  },
  {
   "cell_type": "code",
   "execution_count": 45,
   "id": "38c69ef3-2a53-4258-bbd0-76289732e02d",
   "metadata": {},
   "outputs": [
    {
     "data": {
      "text/plain": [
       "const         145239.655637\n",
       "GrLivArea     216159.965225\n",
       "FullBath_1    -66563.123475\n",
       "FullBath_2    -36542.399327\n",
       "dtype: float64"
      ]
     },
     "execution_count": 45,
     "metadata": {},
     "output_type": "execute_result"
    }
   ],
   "source": [
    "# Build a linear model\n",
    "\n",
    "X_train_lm = sm.add_constant(X_train_lm)\n",
    "\n",
    "lr = sm.OLS(y_train, X_train_lm).fit()\n",
    "\n",
    "lr.params"
   ]
  },
  {
   "cell_type": "code",
   "execution_count": 46,
   "id": "26804369-b7f5-4584-9d59-ad7d036d48c0",
   "metadata": {},
   "outputs": [
    {
     "name": "stdout",
     "output_type": "stream",
     "text": [
      "                            OLS Regression Results                            \n",
      "==============================================================================\n",
      "Dep. Variable:              SalePrice   R-squared:                       0.555\n",
      "Model:                            OLS   Adj. R-squared:                  0.554\n",
      "Method:                 Least Squares   F-statistic:                     393.4\n",
      "Date:                Sat, 15 Jun 2024   Prob (F-statistic):          8.02e-166\n",
      "Time:                        15:54:39   Log-Likelihood:                -11568.\n",
      "No. Observations:                 950   AIC:                         2.314e+04\n",
      "Df Residuals:                     946   BIC:                         2.316e+04\n",
      "Df Model:                           3                                         \n",
      "Covariance Type:            nonrobust                                         \n",
      "==============================================================================\n",
      "                 coef    std err          t      P>|t|      [0.025      0.975]\n",
      "------------------------------------------------------------------------------\n",
      "const       1.452e+05   1.45e+04     10.001      0.000    1.17e+05    1.74e+05\n",
      "GrLivArea   2.162e+05   1.03e+04     20.946      0.000    1.96e+05    2.36e+05\n",
      "FullBath_1 -6.656e+04   1.36e+04     -4.886      0.000   -9.33e+04   -3.98e+04\n",
      "FullBath_2 -3.654e+04    1.3e+04     -2.815      0.005    -6.2e+04   -1.11e+04\n",
      "==============================================================================\n",
      "Omnibus:                      237.265   Durbin-Watson:                   2.008\n",
      "Prob(Omnibus):                  0.000   Jarque-Bera (JB):             1344.369\n",
      "Skew:                           1.016   Prob(JB):                    1.19e-292\n",
      "Kurtosis:                       8.462   Cond. No.                         19.9\n",
      "==============================================================================\n",
      "\n",
      "Notes:\n",
      "[1] Standard Errors assume that the covariance matrix of the errors is correctly specified.\n"
     ]
    }
   ],
   "source": [
    "# Print the summary of the model\n",
    "\n",
    "print(lr.summary())"
   ]
  },
  {
   "cell_type": "markdown",
   "id": "2e206699-3920-4bab-b2af-fe1a8bf9eb3e",
   "metadata": {},
   "source": [
    "### Adding all the variables to the model"
   ]
  },
  {
   "cell_type": "code",
   "execution_count": 47,
   "id": "ebf071a2-cab3-4658-ac1d-024c57435a7a",
   "metadata": {},
   "outputs": [
    {
     "data": {
      "text/plain": [
       "Index(['GrLivArea', 'Bedroom_2', 'Bedroom_3', 'Bedroom_4', 'FullBath_1',\n",
       "       'FullBath_2', 'FullBath_3'],\n",
       "      dtype='object')"
      ]
     },
     "execution_count": 47,
     "metadata": {},
     "output_type": "execute_result"
    }
   ],
   "source": [
    "df_train.columns"
   ]
  },
  {
   "cell_type": "code",
   "execution_count": 48,
   "id": "ce911e2c-5ec7-48b3-85ff-0793ad6c3ca3",
   "metadata": {},
   "outputs": [
    {
     "data": {
      "text/plain": [
       "const         1.163968e+18\n",
       "GrLivArea     2.719774e+05\n",
       "Bedroom_2    -1.121719e+17\n",
       "Bedroom_3    -1.121719e+17\n",
       "Bedroom_4    -1.121719e+17\n",
       "FullBath_1   -1.051796e+18\n",
       "FullBath_2   -1.051796e+18\n",
       "FullBath_3   -1.051796e+18\n",
       "dtype: float64"
      ]
     },
     "execution_count": 48,
     "metadata": {},
     "output_type": "execute_result"
    }
   ],
   "source": [
    "#Build a linear model\n",
    "\n",
    "import statsmodels.api as sm\n",
    "X_train_lm = sm.add_constant(X_train)\n",
    "\n",
    "lr_1 = sm.OLS(y_train, X_train_lm).fit()\n",
    "\n",
    "lr_1.params"
   ]
  },
  {
   "cell_type": "code",
   "execution_count": 49,
   "id": "0f654c1b-cc2b-4643-9c44-07088e41b485",
   "metadata": {},
   "outputs": [
    {
     "name": "stdout",
     "output_type": "stream",
     "text": [
      "                            OLS Regression Results                            \n",
      "==============================================================================\n",
      "Dep. Variable:              SalePrice   R-squared:                       0.597\n",
      "Model:                            OLS   Adj. R-squared:                  0.595\n",
      "Method:                 Least Squares   F-statistic:                     279.9\n",
      "Date:                Sat, 15 Jun 2024   Prob (F-statistic):          1.51e-183\n",
      "Time:                        15:54:39   Log-Likelihood:                -11521.\n",
      "No. Observations:                 950   AIC:                         2.305e+04\n",
      "Df Residuals:                     944   BIC:                         2.308e+04\n",
      "Df Model:                           5                                         \n",
      "Covariance Type:            nonrobust                                         \n",
      "==============================================================================\n",
      "                 coef    std err          t      P>|t|      [0.025      0.975]\n",
      "------------------------------------------------------------------------------\n",
      "const       1.164e+18   5.16e+17      2.256      0.024    1.51e+17    2.18e+18\n",
      "GrLivArea    2.72e+05   1.13e+04     24.135      0.000     2.5e+05    2.94e+05\n",
      "Bedroom_2  -1.122e+17   4.97e+16     -2.256      0.024    -2.1e+17   -1.46e+16\n",
      "Bedroom_3  -1.122e+17   4.97e+16     -2.256      0.024    -2.1e+17   -1.46e+16\n",
      "Bedroom_4  -1.122e+17   4.97e+16     -2.256      0.024    -2.1e+17   -1.46e+16\n",
      "FullBath_1 -1.052e+18   4.66e+17     -2.256      0.024   -1.97e+18   -1.37e+17\n",
      "FullBath_2 -1.052e+18   4.66e+17     -2.256      0.024   -1.97e+18   -1.37e+17\n",
      "FullBath_3 -1.052e+18   4.66e+17     -2.256      0.024   -1.97e+18   -1.37e+17\n",
      "==============================================================================\n",
      "Omnibus:                      186.247   Durbin-Watson:                   1.979\n",
      "Prob(Omnibus):                  0.000   Jarque-Bera (JB):              984.004\n",
      "Skew:                           0.788   Prob(JB):                    2.12e-214\n",
      "Kurtosis:                       7.730   Cond. No.                     1.67e+16\n",
      "==============================================================================\n",
      "\n",
      "Notes:\n",
      "[1] Standard Errors assume that the covariance matrix of the errors is correctly specified.\n",
      "[2] The smallest eigenvalue is 7.11e-30. This might indicate that there are\n",
      "strong multicollinearity problems or that the design matrix is singular.\n"
     ]
    }
   ],
   "source": [
    "print(lr_1.summary())"
   ]
  },
  {
   "cell_type": "code",
   "execution_count": 50,
   "id": "429991d7-3ff4-49e9-8e45-eba31bb29a58",
   "metadata": {},
   "outputs": [],
   "source": [
    "# Check for the VIF values of the feature variables. \n",
    "from statsmodels.stats.outliers_influence import variance_inflation_factor"
   ]
  },
  {
   "cell_type": "code",
   "execution_count": 51,
   "id": "91876b9c-0902-42c7-8fe2-dc06b5336a0e",
   "metadata": {},
   "outputs": [
    {
     "data": {
      "text/html": [
       "<div>\n",
       "<style scoped>\n",
       "    .dataframe tbody tr th:only-of-type {\n",
       "        vertical-align: middle;\n",
       "    }\n",
       "\n",
       "    .dataframe tbody tr th {\n",
       "        vertical-align: top;\n",
       "    }\n",
       "\n",
       "    .dataframe thead th {\n",
       "        text-align: right;\n",
       "    }\n",
       "</style>\n",
       "<table border=\"1\" class=\"dataframe\">\n",
       "  <thead>\n",
       "    <tr style=\"text-align: right;\">\n",
       "      <th></th>\n",
       "      <th>Features</th>\n",
       "      <th>VIF</th>\n",
       "    </tr>\n",
       "  </thead>\n",
       "  <tbody>\n",
       "    <tr>\n",
       "      <th>1</th>\n",
       "      <td>Bedroom_2</td>\n",
       "      <td>inf</td>\n",
       "    </tr>\n",
       "    <tr>\n",
       "      <th>2</th>\n",
       "      <td>Bedroom_3</td>\n",
       "      <td>inf</td>\n",
       "    </tr>\n",
       "    <tr>\n",
       "      <th>3</th>\n",
       "      <td>Bedroom_4</td>\n",
       "      <td>inf</td>\n",
       "    </tr>\n",
       "    <tr>\n",
       "      <th>4</th>\n",
       "      <td>FullBath_1</td>\n",
       "      <td>inf</td>\n",
       "    </tr>\n",
       "    <tr>\n",
       "      <th>5</th>\n",
       "      <td>FullBath_2</td>\n",
       "      <td>inf</td>\n",
       "    </tr>\n",
       "    <tr>\n",
       "      <th>6</th>\n",
       "      <td>FullBath_3</td>\n",
       "      <td>inf</td>\n",
       "    </tr>\n",
       "    <tr>\n",
       "      <th>0</th>\n",
       "      <td>GrLivArea</td>\n",
       "      <td>2.14</td>\n",
       "    </tr>\n",
       "  </tbody>\n",
       "</table>\n",
       "</div>"
      ],
      "text/plain": [
       "     Features   VIF\n",
       "1   Bedroom_2   inf\n",
       "2   Bedroom_3   inf\n",
       "3   Bedroom_4   inf\n",
       "4  FullBath_1   inf\n",
       "5  FullBath_2   inf\n",
       "6  FullBath_3   inf\n",
       "0   GrLivArea  2.14"
      ]
     },
     "execution_count": 51,
     "metadata": {},
     "output_type": "execute_result"
    }
   ],
   "source": [
    "# Create a dataframe that will contain the names of all the feature variables and their respective VIFs\n",
    "vif = pd.DataFrame()\n",
    "vif['Features'] = X_train.columns\n",
    "vif['VIF'] = [variance_inflation_factor(X_train.values, i) for i in range(X_train.shape[1])]\n",
    "vif['VIF'] = round(vif['VIF'], 2)\n",
    "vif = vif.sort_values(by = \"VIF\", ascending = False)\n",
    "vif"
   ]
  },
  {
   "cell_type": "code",
   "execution_count": 52,
   "id": "a32a3860-ffa8-4777-8681-316fbc0e4e8f",
   "metadata": {},
   "outputs": [],
   "source": [
    "X = X_train.drop('FullBath_3', 1,)"
   ]
  },
  {
   "cell_type": "code",
   "execution_count": 53,
   "id": "3a79b813-a3f3-4592-aefc-4bc6826d8c95",
   "metadata": {},
   "outputs": [],
   "source": [
    "# Build a third fitted model\n",
    "X_train_lm = sm.add_constant(X)\n",
    "\n",
    "lr_2 = sm.OLS(y_train, X_train_lm).fit()"
   ]
  },
  {
   "cell_type": "code",
   "execution_count": 54,
   "id": "6e8df783-c770-48b6-b95d-667d70ad5596",
   "metadata": {},
   "outputs": [
    {
     "name": "stdout",
     "output_type": "stream",
     "text": [
      "                            OLS Regression Results                            \n",
      "==============================================================================\n",
      "Dep. Variable:              SalePrice   R-squared:                       0.600\n",
      "Model:                            OLS   Adj. R-squared:                  0.598\n",
      "Method:                 Least Squares   F-statistic:                     283.5\n",
      "Date:                Sat, 15 Jun 2024   Prob (F-statistic):          3.84e-185\n",
      "Time:                        15:54:39   Log-Likelihood:                -11517.\n",
      "No. Observations:                 950   AIC:                         2.305e+04\n",
      "Df Residuals:                     944   BIC:                         2.308e+04\n",
      "Df Model:                           5                                         \n",
      "Covariance Type:            nonrobust                                         \n",
      "==============================================================================\n",
      "                 coef    std err          t      P>|t|      [0.025      0.975]\n",
      "------------------------------------------------------------------------------\n",
      "const       9.553e+04   1.04e+04      9.165      0.000    7.51e+04    1.16e+05\n",
      "GrLivArea   2.715e+05   1.12e+04     24.191      0.000    2.49e+05    2.94e+05\n",
      "Bedroom_2   5.492e+04   4137.708     13.272      0.000    4.68e+04     6.3e+04\n",
      "Bedroom_3    4.22e+04   3976.306     10.613      0.000    3.44e+04       5e+04\n",
      "Bedroom_4  -1592.2021   5033.371     -0.316      0.752   -1.15e+04    8285.688\n",
      "FullBath_1 -7.489e+04    1.3e+04     -5.776      0.000      -1e+05   -4.94e+04\n",
      "FullBath_2 -4.814e+04   1.24e+04     -3.886      0.000   -7.24e+04   -2.38e+04\n",
      "==============================================================================\n",
      "Omnibus:                      184.264   Durbin-Watson:                   1.993\n",
      "Prob(Omnibus):                  0.000   Jarque-Bera (JB):              972.530\n",
      "Skew:                           0.779   Prob(JB):                    6.57e-212\n",
      "Kurtosis:                       7.706   Cond. No.                     2.71e+15\n",
      "==============================================================================\n",
      "\n",
      "Notes:\n",
      "[1] Standard Errors assume that the covariance matrix of the errors is correctly specified.\n",
      "[2] The smallest eigenvalue is 2.69e-28. This might indicate that there are\n",
      "strong multicollinearity problems or that the design matrix is singular.\n"
     ]
    }
   ],
   "source": [
    "# Print the summary of the model\n",
    "print(lr_2.summary())"
   ]
  },
  {
   "cell_type": "code",
   "execution_count": 55,
   "id": "2828c16e-3339-4759-9e5d-86cedeba7264",
   "metadata": {},
   "outputs": [
    {
     "data": {
      "text/html": [
       "<div>\n",
       "<style scoped>\n",
       "    .dataframe tbody tr th:only-of-type {\n",
       "        vertical-align: middle;\n",
       "    }\n",
       "\n",
       "    .dataframe tbody tr th {\n",
       "        vertical-align: top;\n",
       "    }\n",
       "\n",
       "    .dataframe thead th {\n",
       "        text-align: right;\n",
       "    }\n",
       "</style>\n",
       "<table border=\"1\" class=\"dataframe\">\n",
       "  <thead>\n",
       "    <tr style=\"text-align: right;\">\n",
       "      <th></th>\n",
       "      <th>Features</th>\n",
       "      <th>VIF</th>\n",
       "    </tr>\n",
       "  </thead>\n",
       "  <tbody>\n",
       "    <tr>\n",
       "      <th>2</th>\n",
       "      <td>Bedroom_3</td>\n",
       "      <td>53.72</td>\n",
       "    </tr>\n",
       "    <tr>\n",
       "      <th>1</th>\n",
       "      <td>Bedroom_2</td>\n",
       "      <td>24.59</td>\n",
       "    </tr>\n",
       "    <tr>\n",
       "      <th>4</th>\n",
       "      <td>FullBath_1</td>\n",
       "      <td>19.84</td>\n",
       "    </tr>\n",
       "    <tr>\n",
       "      <th>5</th>\n",
       "      <td>FullBath_2</td>\n",
       "      <td>18.17</td>\n",
       "    </tr>\n",
       "    <tr>\n",
       "      <th>3</th>\n",
       "      <td>Bedroom_4</td>\n",
       "      <td>15.46</td>\n",
       "    </tr>\n",
       "    <tr>\n",
       "      <th>0</th>\n",
       "      <td>GrLivArea</td>\n",
       "      <td>2.15</td>\n",
       "    </tr>\n",
       "  </tbody>\n",
       "</table>\n",
       "</div>"
      ],
      "text/plain": [
       "     Features    VIF\n",
       "2   Bedroom_3  53.72\n",
       "1   Bedroom_2  24.59\n",
       "4  FullBath_1  19.84\n",
       "5  FullBath_2  18.17\n",
       "3   Bedroom_4  15.46\n",
       "0   GrLivArea   2.15"
      ]
     },
     "execution_count": 55,
     "metadata": {},
     "output_type": "execute_result"
    }
   ],
   "source": [
    "# Calculate the VIFs again for the new model\n",
    "\n",
    "vif = pd.DataFrame()\n",
    "vif['Features'] = X.columns\n",
    "vif['VIF'] = [variance_inflation_factor(X.values, i) for i in range(X.shape[1])]\n",
    "vif['VIF'] = round(vif['VIF'], 2)\n",
    "vif = vif.sort_values(by = \"VIF\", ascending = False)\n",
    "vif"
   ]
  },
  {
   "cell_type": "code",
   "execution_count": 56,
   "id": "2ceed3aa-a8b5-4d17-9c8c-3f288b2554ed",
   "metadata": {},
   "outputs": [],
   "source": [
    "X = X.drop('Bedroom_3', 1)"
   ]
  },
  {
   "cell_type": "code",
   "execution_count": 57,
   "id": "7622910a-667a-4d45-8415-392a46d27440",
   "metadata": {},
   "outputs": [],
   "source": [
    "# Build a second fitted model\n",
    "X_train_lm = sm.add_constant(X)\n",
    "\n",
    "lr_3 = sm.OLS(y_train, X_train_lm).fit()"
   ]
  },
  {
   "cell_type": "code",
   "execution_count": 58,
   "id": "8870e2d1-a407-48c3-b806-b9b59bf7bfc1",
   "metadata": {},
   "outputs": [
    {
     "name": "stdout",
     "output_type": "stream",
     "text": [
      "                            OLS Regression Results                            \n",
      "==============================================================================\n",
      "Dep. Variable:              SalePrice   R-squared:                       0.600\n",
      "Model:                            OLS   Adj. R-squared:                  0.598\n",
      "Method:                 Least Squares   F-statistic:                     283.5\n",
      "Date:                Sat, 15 Jun 2024   Prob (F-statistic):          3.84e-185\n",
      "Time:                        15:54:39   Log-Likelihood:                -11517.\n",
      "No. Observations:                 950   AIC:                         2.305e+04\n",
      "Df Residuals:                     944   BIC:                         2.308e+04\n",
      "Df Model:                           5                                         \n",
      "Covariance Type:            nonrobust                                         \n",
      "==============================================================================\n",
      "                 coef    std err          t      P>|t|      [0.025      0.975]\n",
      "------------------------------------------------------------------------------\n",
      "const       1.377e+05    1.4e+04      9.849      0.000     1.1e+05    1.65e+05\n",
      "GrLivArea   2.715e+05   1.12e+04     24.191      0.000    2.49e+05    2.94e+05\n",
      "Bedroom_2   1.272e+04   3541.006      3.591      0.000    5767.648    1.97e+04\n",
      "Bedroom_4  -4.379e+04   4693.768     -9.330      0.000    -5.3e+04   -3.46e+04\n",
      "FullBath_1 -7.489e+04    1.3e+04     -5.776      0.000      -1e+05   -4.94e+04\n",
      "FullBath_2 -4.814e+04   1.24e+04     -3.886      0.000   -7.24e+04   -2.38e+04\n",
      "==============================================================================\n",
      "Omnibus:                      184.264   Durbin-Watson:                   1.993\n",
      "Prob(Omnibus):                  0.000   Jarque-Bera (JB):              972.530\n",
      "Skew:                           0.779   Prob(JB):                    6.57e-212\n",
      "Kurtosis:                       7.706   Cond. No.                         20.6\n",
      "==============================================================================\n",
      "\n",
      "Notes:\n",
      "[1] Standard Errors assume that the covariance matrix of the errors is correctly specified.\n"
     ]
    }
   ],
   "source": [
    "# Print the summary of the model\n",
    "\n",
    "print(lr_3.summary())"
   ]
  },
  {
   "cell_type": "markdown",
   "id": "4226b9b7-60eb-4ae5-a3cf-b33133f8e2f5",
   "metadata": {},
   "source": [
    "### Residual Analysis of the train data"
   ]
  },
  {
   "cell_type": "code",
   "execution_count": 59,
   "id": "d06ba637-050c-405f-bdde-b7c632901ad6",
   "metadata": {},
   "outputs": [],
   "source": [
    "y_train_price = lr_3.predict(X_train_lm)"
   ]
  },
  {
   "cell_type": "code",
   "execution_count": 60,
   "id": "940ac0e8-ec67-4f47-8d66-1fd8578715b7",
   "metadata": {},
   "outputs": [
    {
     "data": {
      "text/plain": [
       "Text(0.5, 0, 'Errors')"
      ]
     },
     "execution_count": 60,
     "metadata": {},
     "output_type": "execute_result"
    },
    {
     "data": {
      "image/png": "[encoded data removed]",
      "text/plain": [
       "<Figure size 432x288 with 1 Axes>"
      ]
     },
     "metadata": {
      "needs_background": "light"
     },
     "output_type": "display_data"
    }
   ],
   "source": [
    "# Plot the histogram of the error terms\n",
    "fig = plt.figure()\n",
    "sns.distplot((y_train - y_train_price), bins = 20)\n",
    "fig.suptitle('Error Terms', fontsize = 20)                  # Plot heading \n",
    "plt.xlabel('Errors', fontsize = 18)                         # X-label"
   ]
  },
  {
   "cell_type": "code",
   "execution_count": 61,
   "id": "0f3809e2-abb9-4eac-91ed-838fdafb2f0b",
   "metadata": {},
   "outputs": [
    {
     "data": {
      "text/html": [
       "<div>\n",
       "<style scoped>\n",
       "    .dataframe tbody tr th:only-of-type {\n",
       "        vertical-align: middle;\n",
       "    }\n",
       "\n",
       "    .dataframe tbody tr th {\n",
       "        vertical-align: top;\n",
       "    }\n",
       "\n",
       "    .dataframe thead th {\n",
       "        text-align: right;\n",
       "    }\n",
       "</style>\n",
       "<table border=\"1\" class=\"dataframe\">\n",
       "  <thead>\n",
       "    <tr style=\"text-align: right;\">\n",
       "      <th></th>\n",
       "      <th>GrLivArea</th>\n",
       "      <th>SalePrice</th>\n",
       "      <th>Bedroom_2</th>\n",
       "      <th>Bedroom_3</th>\n",
       "      <th>Bedroom_4</th>\n",
       "      <th>FullBath_1</th>\n",
       "      <th>FullBath_2</th>\n",
       "      <th>FullBath_3</th>\n",
       "    </tr>\n",
       "  </thead>\n",
       "  <tbody>\n",
       "    <tr>\n",
       "      <th>1434</th>\n",
       "      <td>0.222650</td>\n",
       "      <td>160000</td>\n",
       "      <td>0</td>\n",
       "      <td>1</td>\n",
       "      <td>0</td>\n",
       "      <td>0</td>\n",
       "      <td>1</td>\n",
       "      <td>0</td>\n",
       "    </tr>\n",
       "    <tr>\n",
       "      <th>388</th>\n",
       "      <td>0.373504</td>\n",
       "      <td>191000</td>\n",
       "      <td>0</td>\n",
       "      <td>1</td>\n",
       "      <td>0</td>\n",
       "      <td>0</td>\n",
       "      <td>1</td>\n",
       "      <td>0</td>\n",
       "    </tr>\n",
       "    <tr>\n",
       "      <th>1405</th>\n",
       "      <td>0.444872</td>\n",
       "      <td>275000</td>\n",
       "      <td>1</td>\n",
       "      <td>0</td>\n",
       "      <td>0</td>\n",
       "      <td>0</td>\n",
       "      <td>1</td>\n",
       "      <td>0</td>\n",
       "    </tr>\n",
       "    <tr>\n",
       "      <th>951</th>\n",
       "      <td>0.153846</td>\n",
       "      <td>119900</td>\n",
       "      <td>0</td>\n",
       "      <td>1</td>\n",
       "      <td>0</td>\n",
       "      <td>1</td>\n",
       "      <td>0</td>\n",
       "      <td>0</td>\n",
       "    </tr>\n",
       "    <tr>\n",
       "      <th>791</th>\n",
       "      <td>0.195299</td>\n",
       "      <td>146800</td>\n",
       "      <td>0</td>\n",
       "      <td>1</td>\n",
       "      <td>0</td>\n",
       "      <td>1</td>\n",
       "      <td>0</td>\n",
       "      <td>0</td>\n",
       "    </tr>\n",
       "    <tr>\n",
       "      <th>...</th>\n",
       "      <td>...</td>\n",
       "      <td>...</td>\n",
       "      <td>...</td>\n",
       "      <td>...</td>\n",
       "      <td>...</td>\n",
       "      <td>...</td>\n",
       "      <td>...</td>\n",
       "      <td>...</td>\n",
       "    </tr>\n",
       "    <tr>\n",
       "      <th>480</th>\n",
       "      <td>0.532051</td>\n",
       "      <td>326000</td>\n",
       "      <td>0</td>\n",
       "      <td>1</td>\n",
       "      <td>0</td>\n",
       "      <td>0</td>\n",
       "      <td>1</td>\n",
       "      <td>0</td>\n",
       "    </tr>\n",
       "    <tr>\n",
       "      <th>174</th>\n",
       "      <td>0.447009</td>\n",
       "      <td>184000</td>\n",
       "      <td>0</td>\n",
       "      <td>1</td>\n",
       "      <td>0</td>\n",
       "      <td>0</td>\n",
       "      <td>1</td>\n",
       "      <td>0</td>\n",
       "    </tr>\n",
       "    <tr>\n",
       "      <th>1321</th>\n",
       "      <td>0.049145</td>\n",
       "      <td>72500</td>\n",
       "      <td>1</td>\n",
       "      <td>0</td>\n",
       "      <td>0</td>\n",
       "      <td>1</td>\n",
       "      <td>0</td>\n",
       "      <td>0</td>\n",
       "    </tr>\n",
       "    <tr>\n",
       "      <th>764</th>\n",
       "      <td>0.379915</td>\n",
       "      <td>270000</td>\n",
       "      <td>1</td>\n",
       "      <td>0</td>\n",
       "      <td>0</td>\n",
       "      <td>1</td>\n",
       "      <td>0</td>\n",
       "      <td>0</td>\n",
       "    </tr>\n",
       "    <tr>\n",
       "      <th>629</th>\n",
       "      <td>0.318376</td>\n",
       "      <td>168500</td>\n",
       "      <td>0</td>\n",
       "      <td>1</td>\n",
       "      <td>0</td>\n",
       "      <td>1</td>\n",
       "      <td>0</td>\n",
       "      <td>0</td>\n",
       "    </tr>\n",
       "  </tbody>\n",
       "</table>\n",
       "<p>408 rows × 8 columns</p>\n",
       "</div>"
      ],
      "text/plain": [
       "      GrLivArea  SalePrice  Bedroom_2  Bedroom_3  Bedroom_4  FullBath_1  \\\n",
       "1434   0.222650     160000          0          1          0           0   \n",
       "388    0.373504     191000          0          1          0           0   \n",
       "1405   0.444872     275000          1          0          0           0   \n",
       "951    0.153846     119900          0          1          0           1   \n",
       "791    0.195299     146800          0          1          0           1   \n",
       "...         ...        ...        ...        ...        ...         ...   \n",
       "480    0.532051     326000          0          1          0           0   \n",
       "174    0.447009     184000          0          1          0           0   \n",
       "1321   0.049145      72500          1          0          0           1   \n",
       "764    0.379915     270000          1          0          0           1   \n",
       "629    0.318376     168500          0          1          0           1   \n",
       "\n",
       "      FullBath_2  FullBath_3  \n",
       "1434           1           0  \n",
       "388            1           0  \n",
       "1405           1           0  \n",
       "951            0           0  \n",
       "791            0           0  \n",
       "...          ...         ...  \n",
       "480            1           0  \n",
       "174            1           0  \n",
       "1321           0           0  \n",
       "764            0           0  \n",
       "629            0           0  \n",
       "\n",
       "[408 rows x 8 columns]"
      ]
     },
     "execution_count": 61,
     "metadata": {},
     "output_type": "execute_result"
    }
   ],
   "source": [
    "df_test"
   ]
  },
  {
   "cell_type": "markdown",
   "id": "40464558-4e0c-42f4-afb6-451a1af46e61",
   "metadata": {},
   "source": [
    "#### Dividing into X_test and y_test"
   ]
  },
  {
   "cell_type": "code",
   "execution_count": 62,
   "id": "a99e919d-35ff-4f5e-9b88-650a71a02939",
   "metadata": {},
   "outputs": [],
   "source": [
    "y_test = df_test.pop('SalePrice')\n",
    "X_test = df_test"
   ]
  },
  {
   "cell_type": "code",
   "execution_count": 63,
   "id": "ff5b8402-5aea-4c7c-928e-ef0165e195bf",
   "metadata": {},
   "outputs": [],
   "source": [
    "# Adding constant variable to test dataframe\n",
    "X_test_m4 = sm.add_constant(X_test)"
   ]
  },
  {
   "cell_type": "code",
   "execution_count": 64,
   "id": "b6f1e35e-1367-41d7-bf0f-4c33cfe18af5",
   "metadata": {},
   "outputs": [],
   "source": [
    "# Creating X_test_m4 dataframe by dropping variables from X_test_m4\n",
    "\n",
    "X_test_m4 = X_test_m4.drop([\"FullBath_3\", \"Bedroom_3\"], axis = 1)"
   ]
  },
  {
   "cell_type": "code",
   "execution_count": 65,
   "id": "d6350140-1019-47c9-9b30-02e2915c0c48",
   "metadata": {},
   "outputs": [],
   "source": [
    "# Making predictions using the fourth model\n",
    "\n",
    "y_pred_m4 = lr_3.predict(X_test_m4)"
   ]
  },
  {
   "cell_type": "markdown",
   "id": "96e62592-ee31-41eb-aeb5-8620e983fd76",
   "metadata": {},
   "source": [
    "### Model Evaluation"
   ]
  },
  {
   "cell_type": "code",
   "execution_count": 66,
   "id": "3998887a-cbff-4986-a523-248d0638d1f2",
   "metadata": {},
   "outputs": [
    {
     "data": {
      "text/plain": [
       "Text(0, 0.5, 'y_pred')"
      ]
     },
     "execution_count": 66,
     "metadata": {},
     "output_type": "execute_result"
    },
    {
     "data": {
      "image/png": "[encoded data removed]",
      "text/plain": [
       "<Figure size 432x288 with 1 Axes>"
      ]
     },
     "metadata": {
      "needs_background": "light"
     },
     "output_type": "display_data"
    }
   ],
   "source": [
    "# Plotting y_test and y_pred to understand the spread\n",
    "\n",
    "fig = plt.figure()\n",
    "plt.scatter(y_test, y_pred_m4)\n",
    "fig.suptitle('y_test vs y_pred', fontsize = 20)              # Plot heading \n",
    "plt.xlabel('y_test', fontsize = 18)                          # X-label\n",
    "plt.ylabel('y_pred', fontsize = 16)      "
   ]
  },
  {
   "cell_type": "code",
   "execution_count": 67,
   "id": "63de4579-7025-48b1-90c6-d3645d6a8deb",
   "metadata": {},
   "outputs": [
    {
     "data": {
      "image/png": "[encoded data removed]",
      "text/plain": [
       "<Figure size 576x432 with 1 Axes>"
      ]
     },
     "metadata": {
      "needs_background": "light"
     },
     "output_type": "display_data"
    }
   ],
   "source": [
    "plt.figure(figsize=(8, 6))\n",
    "plt.scatter(y_test, y_pred_m4, color='blue', alpha=0.6, label='Predicted')  # Predicted values in blue\n",
    "plt.scatter(y_test, y_test, color='green', alpha=0.6, label='Actual')  # Actual values in green\n",
    "plt.plot([y_test.min(), y_test.max()], [y_test.min(), y_test.max()], color='red', linestyle='--', linewidth=2)\n",
    "plt.xlabel('Actual Values')\n",
    "plt.ylabel('Predicted Values')\n",
    "plt.title('Actual vs Predicted Values')\n",
    "plt.legend()\n",
    "plt.grid(True)\n",
    "plt.tight_layout()\n",
    "plt.show()\n"
   ]
  },
  {
   "cell_type": "code",
   "execution_count": 68,
   "id": "5cf0223d-7a5e-4402-a3c5-a1e42b897251",
   "metadata": {},
   "outputs": [
    {
     "data": {
      "text/plain": [
       "LinearRegression()"
      ]
     },
     "execution_count": 68,
     "metadata": {},
     "output_type": "execute_result"
    }
   ],
   "source": [
    "from sklearn.linear_model import LinearRegression\n",
    "\n",
    "model = LinearRegression()\n",
    "model.fit(X_train, y_train)"
   ]
  },
  {
   "cell_type": "code",
   "execution_count": 69,
   "id": "e4dda7f1-ba90-40af-8e8b-17c4c5650b6f",
   "metadata": {},
   "outputs": [],
   "source": [
    "predictions = model.predict(Test_df)"
   ]
  },
  {
   "cell_type": "code",
   "execution_count": 72,
   "id": "50b18b39-c9df-43c6-ab9b-628acd8f5a8e",
   "metadata": {},
   "outputs": [],
   "source": [
    "# Create a new DataFrame or update the existing test_data with predictions\n",
    "Test_df['Predicted_SalePrice'] = predictions\n",
    "\n",
    "# Save the predictions to a new CSV file or use as needed\n",
    "Test_df.to_csv('predicted_sale_prices.csv', index=False)"
   ]
  }
 ],
 "metadata": {
  "kernelspec": {
   "display_name": "Python 3 (ipykernel)",
   "language": "python",
   "name": "python3"
  },
  "language_info": {
   "codemirror_mode": {
    "name": "ipython",
    "version": 3
   },
   "file_extension": ".py",
   "mimetype": "text/x-python",
   "name": "python",
   "nbconvert_exporter": "python",
   "pygments_lexer": "ipython3",
   "version": "3.9.12"
  }
 },
 "nbformat": 4,
 "nbformat_minor": 5
}
